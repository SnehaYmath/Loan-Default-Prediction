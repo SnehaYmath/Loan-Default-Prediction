{
 "cells": [
  {
   "cell_type": "markdown",
   "id": "c35d9218",
   "metadata": {},
   "source": [
    "# Loan default prediction"
   ]
  },
  {
   "cell_type": "raw",
   "id": "147cac89",
   "metadata": {},
   "source": [
    "Features:                          Description\n",
    "ID:                                Id of the Applicant.\n",
    "Date_Of_Disbursement:              The Date when the Loan is Disbursed.\n",
    "Business:                          Type of Business. Existing or New.\n",
    "Jobs_Reatained:                    The total number of Jobs Retained by the business. \n",
    "Jobs_Created :                     The total number of Jobs Created by the business. \n",
    "Year_Of_Commitment :               Fiscal year of commitment.\n",
    "Guaranteed_Approved _Loan:         The Guaranteed Amount of Loan that has been approved by the Financial Company. \n",
    "Borrower_Name :                    The Name of the borrower.\n",
    "Low_Documentation_Loan:            Whether the Documentation is low or not? \n",
    "Demography:                        Whether the borrower belongs to urban or rural locality?\n",
    "State_Of_Bank:                     The State of the Bank which has approved the Loan\n",
    "ChargedOff_Amount :                The Amount that has been charged off\n",
    "Borrower_City:                     The City where the borrower lives. \n",
    "Borrower_State:                    The State where the borrower lives. \n",
    "Gross_Amount_Balance:              The Gross amount that has been outstanding in the Loan. \n",
    "Count_Employees:                   The total number of employees in the business. \n",
    "Classification_Code :              North American Industry Classification Code. \n",
    "Loan_Approved_Gross:               Application process day \n",
    "Gross_Amount_Disbursed  :          The total Loan Amount that has been disbursed. \n",
    "Loan_Term:                         The total Loan term in months. \n",
    "Commitment_Date:                   The date when the SBA commitment is issued. \n",
    "Primary_Loan_Digit:                The Primary Key Identifier of the Loan Account.\n",
    "Code_Franchise:                    The Franchise Code.\n",
    "Name_Of_Bank:                      The Name of the Bank that has approved the Loan. \n",
    "Revolving_Credit_Line:             Revolving Line of Credit. (Yes/No)\n",
    "Default:                           Defaulted or Not Defaulted - 0-Not Defaulted, 1- Defaulted\n"
   ]
  },
  {
   "cell_type": "code",
   "execution_count": 1,
   "id": "6638bf72",
   "metadata": {},
   "outputs": [],
   "source": [
    "# import required libraries\n",
    "import numpy as np\n",
    "import pandas as pd\n",
    "import matplotlib.pyplot as plt\n",
    "import seaborn as sns\n",
    "%matplotlib inline\n",
    "color = sns.color_palette()\n",
    "seed = 42\n",
    "sns.set(style=\"whitegrid\")\n",
    "plt.style.use('ggplot')\n",
    "plt.rcParams['figure.figsize'] = (12, 8)\n",
    "pd.options.mode.chained_assignment = None\n",
    "pd.options.display.float_format = '{:.2f}'.format\n",
    "pd.set_option('display.max_columns', 200)\n",
    "pd.set_option('display.width', 400)"
   ]
  },
  {
   "cell_type": "code",
   "execution_count": 2,
   "id": "821c38ad",
   "metadata": {},
   "outputs": [],
   "source": [
    "from datetime import datetime\n",
    "import xgboost\n",
    "from sklearn.metrics import accuracy_score\n",
    "from sklearn.metrics import auc\n",
    "from sklearn.metrics import roc_auc_score\n",
    "from sklearn.model_selection import train_test_split"
   ]
  },
  {
   "cell_type": "code",
   "execution_count": 3,
   "id": "8705fafb",
   "metadata": {},
   "outputs": [],
   "source": [
    "from scipy.stats import boxcox\n",
    "from sklearn.preprocessing import StandardScaler\n",
    "from sklearn.model_selection import train_test_split\n",
    "from sklearn.metrics import accuracy_score, classification_report"
   ]
  },
  {
   "cell_type": "code",
   "execution_count": 4,
   "id": "0b222afa",
   "metadata": {},
   "outputs": [
    {
     "name": "stdout",
     "output_type": "stream",
     "text": [
      "Requirement already satisfied: six in c:\\programdata\\anaconda3\\lib\\site-packages (1.16.0)\n"
     ]
    },
    {
     "name": "stderr",
     "output_type": "stream",
     "text": [
      "WARNING: Ignoring invalid distribution -ikit-learn (c:\\programdata\\anaconda3\\lib\\site-packages)\n",
      "WARNING: Ignoring invalid distribution -ckaging (c:\\programdata\\anaconda3\\lib\\site-packages)\n",
      "WARNING: Ignoring invalid distribution -5ikit-learn (c:\\programdata\\anaconda3\\lib\\site-packages)\n",
      "WARNING: Ignoring invalid distribution -4ikit-learn (c:\\programdata\\anaconda3\\lib\\site-packages)\n",
      "WARNING: Ignoring invalid distribution -3ikit-learn (c:\\programdata\\anaconda3\\lib\\site-packages)\n",
      "WARNING: Ignoring invalid distribution -2ikit-learn (c:\\programdata\\anaconda3\\lib\\site-packages)\n",
      "WARNING: Ignoring invalid distribution -1ikit-learn (c:\\programdata\\anaconda3\\lib\\site-packages)\n",
      "WARNING: Ignoring invalid distribution -1ckaging (c:\\programdata\\anaconda3\\lib\\site-packages)\n",
      "WARNING: Ignoring invalid distribution -ikit-learn (c:\\programdata\\anaconda3\\lib\\site-packages)\n",
      "WARNING: Ignoring invalid distribution -0ikit-learn (c:\\programdata\\anaconda3\\lib\\site-packages)\n",
      "WARNING: Ignoring invalid distribution - (c:\\programdata\\anaconda3\\lib\\site-packages)\n",
      "WARNING: Ignoring invalid distribution -ckaging (c:\\programdata\\anaconda3\\lib\\site-packages)\n",
      "WARNING: Ignoring invalid distribution -0ckaging (c:\\programdata\\anaconda3\\lib\\site-packages)\n",
      "WARNING: Ignoring invalid distribution -cipy (c:\\programdata\\anaconda3\\lib\\site-packages)\n",
      "WARNING: Ignoring invalid distribution -cikit-learn (c:\\programdata\\anaconda3\\lib\\site-packages)\n",
      "WARNING: Ignoring invalid distribution -ackaging (c:\\programdata\\anaconda3\\lib\\site-packages)\n",
      "WARNING: Ignoring invalid distribution -ikit-learn (c:\\programdata\\anaconda3\\lib\\site-packages)\n",
      "WARNING: Ignoring invalid distribution -ckaging (c:\\programdata\\anaconda3\\lib\\site-packages)\n",
      "WARNING: Ignoring invalid distribution -5ikit-learn (c:\\programdata\\anaconda3\\lib\\site-packages)\n",
      "WARNING: Ignoring invalid distribution -4ikit-learn (c:\\programdata\\anaconda3\\lib\\site-packages)\n",
      "WARNING: Ignoring invalid distribution -3ikit-learn (c:\\programdata\\anaconda3\\lib\\site-packages)\n",
      "WARNING: Ignoring invalid distribution -2ikit-learn (c:\\programdata\\anaconda3\\lib\\site-packages)\n",
      "WARNING: Ignoring invalid distribution -1ikit-learn (c:\\programdata\\anaconda3\\lib\\site-packages)\n",
      "WARNING: Ignoring invalid distribution -1ckaging (c:\\programdata\\anaconda3\\lib\\site-packages)\n",
      "WARNING: Ignoring invalid distribution -ikit-learn (c:\\programdata\\anaconda3\\lib\\site-packages)\n",
      "WARNING: Ignoring invalid distribution -0ikit-learn (c:\\programdata\\anaconda3\\lib\\site-packages)\n",
      "WARNING: Ignoring invalid distribution - (c:\\programdata\\anaconda3\\lib\\site-packages)\n",
      "WARNING: Ignoring invalid distribution -ckaging (c:\\programdata\\anaconda3\\lib\\site-packages)\n",
      "WARNING: Ignoring invalid distribution -0ckaging (c:\\programdata\\anaconda3\\lib\\site-packages)\n",
      "WARNING: Ignoring invalid distribution -cipy (c:\\programdata\\anaconda3\\lib\\site-packages)\n",
      "WARNING: Ignoring invalid distribution -cikit-learn (c:\\programdata\\anaconda3\\lib\\site-packages)\n",
      "WARNING: Ignoring invalid distribution -ackaging (c:\\programdata\\anaconda3\\lib\\site-packages)\n",
      "WARNING: Ignoring invalid distribution -ikit-learn (c:\\programdata\\anaconda3\\lib\\site-packages)\n",
      "WARNING: Ignoring invalid distribution -ckaging (c:\\programdata\\anaconda3\\lib\\site-packages)\n",
      "WARNING: Ignoring invalid distribution -5ikit-learn (c:\\programdata\\anaconda3\\lib\\site-packages)\n",
      "WARNING: Ignoring invalid distribution -4ikit-learn (c:\\programdata\\anaconda3\\lib\\site-packages)\n",
      "WARNING: Ignoring invalid distribution -3ikit-learn (c:\\programdata\\anaconda3\\lib\\site-packages)\n",
      "WARNING: Ignoring invalid distribution -2ikit-learn (c:\\programdata\\anaconda3\\lib\\site-packages)\n",
      "WARNING: Ignoring invalid distribution -1ikit-learn (c:\\programdata\\anaconda3\\lib\\site-packages)\n",
      "WARNING: Ignoring invalid distribution -1ckaging (c:\\programdata\\anaconda3\\lib\\site-packages)\n",
      "WARNING: Ignoring invalid distribution -ikit-learn (c:\\programdata\\anaconda3\\lib\\site-packages)\n",
      "WARNING: Ignoring invalid distribution -0ikit-learn (c:\\programdata\\anaconda3\\lib\\site-packages)\n",
      "WARNING: Ignoring invalid distribution - (c:\\programdata\\anaconda3\\lib\\site-packages)\n",
      "WARNING: Ignoring invalid distribution -ckaging (c:\\programdata\\anaconda3\\lib\\site-packages)\n",
      "WARNING: Ignoring invalid distribution -0ckaging (c:\\programdata\\anaconda3\\lib\\site-packages)\n",
      "WARNING: Ignoring invalid distribution -cipy (c:\\programdata\\anaconda3\\lib\\site-packages)\n",
      "WARNING: Ignoring invalid distribution -cikit-learn (c:\\programdata\\anaconda3\\lib\\site-packages)\n",
      "WARNING: Ignoring invalid distribution -ackaging (c:\\programdata\\anaconda3\\lib\\site-packages)\n",
      "WARNING: Ignoring invalid distribution -ikit-learn (c:\\programdata\\anaconda3\\lib\\site-packages)\n",
      "WARNING: Ignoring invalid distribution -ckaging (c:\\programdata\\anaconda3\\lib\\site-packages)\n",
      "WARNING: Ignoring invalid distribution -5ikit-learn (c:\\programdata\\anaconda3\\lib\\site-packages)\n",
      "WARNING: Ignoring invalid distribution -4ikit-learn (c:\\programdata\\anaconda3\\lib\\site-packages)\n",
      "WARNING: Ignoring invalid distribution -3ikit-learn (c:\\programdata\\anaconda3\\lib\\site-packages)\n",
      "WARNING: Ignoring invalid distribution -2ikit-learn (c:\\programdata\\anaconda3\\lib\\site-packages)\n",
      "WARNING: Ignoring invalid distribution -1ikit-learn (c:\\programdata\\anaconda3\\lib\\site-packages)\n",
      "WARNING: Ignoring invalid distribution -1ckaging (c:\\programdata\\anaconda3\\lib\\site-packages)\n",
      "WARNING: Ignoring invalid distribution -ikit-learn (c:\\programdata\\anaconda3\\lib\\site-packages)\n",
      "WARNING: Ignoring invalid distribution -0ikit-learn (c:\\programdata\\anaconda3\\lib\\site-packages)\n",
      "WARNING: Ignoring invalid distribution - (c:\\programdata\\anaconda3\\lib\\site-packages)\n",
      "WARNING: Ignoring invalid distribution -ckaging (c:\\programdata\\anaconda3\\lib\\site-packages)\n",
      "WARNING: Ignoring invalid distribution -0ckaging (c:\\programdata\\anaconda3\\lib\\site-packages)\n",
      "WARNING: Ignoring invalid distribution -cipy (c:\\programdata\\anaconda3\\lib\\site-packages)\n",
      "WARNING: Ignoring invalid distribution -cikit-learn (c:\\programdata\\anaconda3\\lib\\site-packages)\n",
      "WARNING: Ignoring invalid distribution -ackaging (c:\\programdata\\anaconda3\\lib\\site-packages)\n",
      "WARNING: Ignoring invalid distribution -ikit-learn (c:\\programdata\\anaconda3\\lib\\site-packages)\n",
      "WARNING: Ignoring invalid distribution -ckaging (c:\\programdata\\anaconda3\\lib\\site-packages)\n",
      "WARNING: Ignoring invalid distribution -5ikit-learn (c:\\programdata\\anaconda3\\lib\\site-packages)\n",
      "WARNING: Ignoring invalid distribution -4ikit-learn (c:\\programdata\\anaconda3\\lib\\site-packages)\n",
      "WARNING: Ignoring invalid distribution -3ikit-learn (c:\\programdata\\anaconda3\\lib\\site-packages)\n",
      "WARNING: Ignoring invalid distribution -2ikit-learn (c:\\programdata\\anaconda3\\lib\\site-packages)\n",
      "WARNING: Ignoring invalid distribution -1ikit-learn (c:\\programdata\\anaconda3\\lib\\site-packages)\n",
      "WARNING: Ignoring invalid distribution -1ckaging (c:\\programdata\\anaconda3\\lib\\site-packages)\n",
      "WARNING: Ignoring invalid distribution -ikit-learn (c:\\programdata\\anaconda3\\lib\\site-packages)\n",
      "WARNING: Ignoring invalid distribution -0ikit-learn (c:\\programdata\\anaconda3\\lib\\site-packages)\n",
      "WARNING: Ignoring invalid distribution - (c:\\programdata\\anaconda3\\lib\\site-packages)\n",
      "WARNING: Ignoring invalid distribution -ckaging (c:\\programdata\\anaconda3\\lib\\site-packages)\n",
      "WARNING: Ignoring invalid distribution -0ckaging (c:\\programdata\\anaconda3\\lib\\site-packages)\n",
      "WARNING: Ignoring invalid distribution -cipy (c:\\programdata\\anaconda3\\lib\\site-packages)\n",
      "WARNING: Ignoring invalid distribution -cikit-learn (c:\\programdata\\anaconda3\\lib\\site-packages)\n",
      "WARNING: Ignoring invalid distribution -ackaging (c:\\programdata\\anaconda3\\lib\\site-packages)\n",
      "WARNING: Ignoring invalid distribution -ikit-learn (c:\\programdata\\anaconda3\\lib\\site-packages)\n",
      "WARNING: Ignoring invalid distribution -ckaging (c:\\programdata\\anaconda3\\lib\\site-packages)\n",
      "WARNING: Ignoring invalid distribution -5ikit-learn (c:\\programdata\\anaconda3\\lib\\site-packages)\n",
      "WARNING: Ignoring invalid distribution -4ikit-learn (c:\\programdata\\anaconda3\\lib\\site-packages)\n",
      "WARNING: Ignoring invalid distribution -3ikit-learn (c:\\programdata\\anaconda3\\lib\\site-packages)\n",
      "WARNING: Ignoring invalid distribution -2ikit-learn (c:\\programdata\\anaconda3\\lib\\site-packages)\n",
      "WARNING: Ignoring invalid distribution -1ikit-learn (c:\\programdata\\anaconda3\\lib\\site-packages)\n",
      "WARNING: Ignoring invalid distribution -1ckaging (c:\\programdata\\anaconda3\\lib\\site-packages)\n",
      "WARNING: Ignoring invalid distribution -ikit-learn (c:\\programdata\\anaconda3\\lib\\site-packages)\n",
      "WARNING: Ignoring invalid distribution -0ikit-learn (c:\\programdata\\anaconda3\\lib\\site-packages)\n",
      "WARNING: Ignoring invalid distribution - (c:\\programdata\\anaconda3\\lib\\site-packages)\n",
      "WARNING: Ignoring invalid distribution -ckaging (c:\\programdata\\anaconda3\\lib\\site-packages)\n",
      "WARNING: Ignoring invalid distribution -0ckaging (c:\\programdata\\anaconda3\\lib\\site-packages)\n",
      "WARNING: Ignoring invalid distribution -cipy (c:\\programdata\\anaconda3\\lib\\site-packages)\n",
      "WARNING: Ignoring invalid distribution -cikit-learn (c:\\programdata\\anaconda3\\lib\\site-packages)\n",
      "WARNING: Ignoring invalid distribution -ackaging (c:\\programdata\\anaconda3\\lib\\site-packages)\n"
     ]
    }
   ],
   "source": [
    "!pip install six"
   ]
  },
  {
   "cell_type": "code",
   "execution_count": 5,
   "id": "8096ee8b",
   "metadata": {},
   "outputs": [
    {
     "name": "stdout",
     "output_type": "stream",
     "text": [
      "Requirement already satisfied: category_encoders in c:\\programdata\\anaconda3\\lib\\site-packages (2.5.1.post0)\n",
      "Requirement already satisfied: scikit-learn>=0.20.0 in c:\\programdata\\anaconda3\\lib\\site-packages (from category_encoders) (0.24.2)\n",
      "Requirement already satisfied: patsy>=0.5.1 in c:\\programdata\\anaconda3\\lib\\site-packages (from category_encoders) (0.5.2)\n",
      "Requirement already satisfied: pandas>=1.0.5 in c:\\programdata\\anaconda3\\lib\\site-packages (from category_encoders) (1.3.4)\n",
      "Requirement already satisfied: numpy>=1.14.0 in c:\\programdata\\anaconda3\\lib\\site-packages (from category_encoders) (1.20.3)\n",
      "Requirement already satisfied: statsmodels>=0.9.0 in c:\\programdata\\anaconda3\\lib\\site-packages (from category_encoders) (0.12.2)\n",
      "Requirement already satisfied: scipy>=1.0.0 in c:\\programdata\\anaconda3\\lib\\site-packages (from category_encoders) (1.7.1)\n",
      "Requirement already satisfied: python-dateutil>=2.7.3 in c:\\programdata\\anaconda3\\lib\\site-packages (from pandas>=1.0.5->category_encoders) (2.8.2)\n",
      "Requirement already satisfied: pytz>=2017.3 in c:\\programdata\\anaconda3\\lib\\site-packages (from pandas>=1.0.5->category_encoders) (2021.3)\n",
      "Requirement already satisfied: six in c:\\programdata\\anaconda3\\lib\\site-packages (from patsy>=0.5.1->category_encoders) (1.16.0)\n",
      "Requirement already satisfied: joblib>=0.11 in c:\\programdata\\anaconda3\\lib\\site-packages (from scikit-learn>=0.20.0->category_encoders) (1.1.0)\n",
      "Requirement already satisfied: threadpoolctl>=2.0.0 in c:\\programdata\\anaconda3\\lib\\site-packages (from scikit-learn>=0.20.0->category_encoders) (2.2.0)\n"
     ]
    },
    {
     "name": "stderr",
     "output_type": "stream",
     "text": [
      "WARNING: Ignoring invalid distribution -ikit-learn (c:\\programdata\\anaconda3\\lib\\site-packages)\n",
      "WARNING: Ignoring invalid distribution -ckaging (c:\\programdata\\anaconda3\\lib\\site-packages)\n",
      "WARNING: Ignoring invalid distribution -5ikit-learn (c:\\programdata\\anaconda3\\lib\\site-packages)\n",
      "WARNING: Ignoring invalid distribution -4ikit-learn (c:\\programdata\\anaconda3\\lib\\site-packages)\n",
      "WARNING: Ignoring invalid distribution -3ikit-learn (c:\\programdata\\anaconda3\\lib\\site-packages)\n",
      "WARNING: Ignoring invalid distribution -2ikit-learn (c:\\programdata\\anaconda3\\lib\\site-packages)\n",
      "WARNING: Ignoring invalid distribution -1ikit-learn (c:\\programdata\\anaconda3\\lib\\site-packages)\n",
      "WARNING: Ignoring invalid distribution -1ckaging (c:\\programdata\\anaconda3\\lib\\site-packages)\n",
      "WARNING: Ignoring invalid distribution -ikit-learn (c:\\programdata\\anaconda3\\lib\\site-packages)\n",
      "WARNING: Ignoring invalid distribution -0ikit-learn (c:\\programdata\\anaconda3\\lib\\site-packages)\n",
      "WARNING: Ignoring invalid distribution - (c:\\programdata\\anaconda3\\lib\\site-packages)\n",
      "WARNING: Ignoring invalid distribution -ckaging (c:\\programdata\\anaconda3\\lib\\site-packages)\n",
      "WARNING: Ignoring invalid distribution -0ckaging (c:\\programdata\\anaconda3\\lib\\site-packages)\n",
      "WARNING: Ignoring invalid distribution -cipy (c:\\programdata\\anaconda3\\lib\\site-packages)\n",
      "WARNING: Ignoring invalid distribution -cikit-learn (c:\\programdata\\anaconda3\\lib\\site-packages)\n",
      "WARNING: Ignoring invalid distribution -ackaging (c:\\programdata\\anaconda3\\lib\\site-packages)\n",
      "WARNING: Ignoring invalid distribution -ikit-learn (c:\\programdata\\anaconda3\\lib\\site-packages)\n",
      "WARNING: Ignoring invalid distribution -ckaging (c:\\programdata\\anaconda3\\lib\\site-packages)\n",
      "WARNING: Ignoring invalid distribution -5ikit-learn (c:\\programdata\\anaconda3\\lib\\site-packages)\n",
      "WARNING: Ignoring invalid distribution -4ikit-learn (c:\\programdata\\anaconda3\\lib\\site-packages)\n",
      "WARNING: Ignoring invalid distribution -3ikit-learn (c:\\programdata\\anaconda3\\lib\\site-packages)\n",
      "WARNING: Ignoring invalid distribution -2ikit-learn (c:\\programdata\\anaconda3\\lib\\site-packages)\n",
      "WARNING: Ignoring invalid distribution -1ikit-learn (c:\\programdata\\anaconda3\\lib\\site-packages)\n",
      "WARNING: Ignoring invalid distribution -1ckaging (c:\\programdata\\anaconda3\\lib\\site-packages)\n",
      "WARNING: Ignoring invalid distribution -ikit-learn (c:\\programdata\\anaconda3\\lib\\site-packages)\n",
      "WARNING: Ignoring invalid distribution -0ikit-learn (c:\\programdata\\anaconda3\\lib\\site-packages)\n",
      "WARNING: Ignoring invalid distribution - (c:\\programdata\\anaconda3\\lib\\site-packages)\n",
      "WARNING: Ignoring invalid distribution -ckaging (c:\\programdata\\anaconda3\\lib\\site-packages)\n",
      "WARNING: Ignoring invalid distribution -0ckaging (c:\\programdata\\anaconda3\\lib\\site-packages)\n",
      "WARNING: Ignoring invalid distribution -cipy (c:\\programdata\\anaconda3\\lib\\site-packages)\n",
      "WARNING: Ignoring invalid distribution -cikit-learn (c:\\programdata\\anaconda3\\lib\\site-packages)\n",
      "WARNING: Ignoring invalid distribution -ackaging (c:\\programdata\\anaconda3\\lib\\site-packages)\n",
      "WARNING: Ignoring invalid distribution -ikit-learn (c:\\programdata\\anaconda3\\lib\\site-packages)\n",
      "WARNING: Ignoring invalid distribution -ckaging (c:\\programdata\\anaconda3\\lib\\site-packages)\n",
      "WARNING: Ignoring invalid distribution -5ikit-learn (c:\\programdata\\anaconda3\\lib\\site-packages)\n",
      "WARNING: Ignoring invalid distribution -4ikit-learn (c:\\programdata\\anaconda3\\lib\\site-packages)\n",
      "WARNING: Ignoring invalid distribution -3ikit-learn (c:\\programdata\\anaconda3\\lib\\site-packages)\n",
      "WARNING: Ignoring invalid distribution -2ikit-learn (c:\\programdata\\anaconda3\\lib\\site-packages)\n",
      "WARNING: Ignoring invalid distribution -1ikit-learn (c:\\programdata\\anaconda3\\lib\\site-packages)\n",
      "WARNING: Ignoring invalid distribution -1ckaging (c:\\programdata\\anaconda3\\lib\\site-packages)\n",
      "WARNING: Ignoring invalid distribution -ikit-learn (c:\\programdata\\anaconda3\\lib\\site-packages)\n",
      "WARNING: Ignoring invalid distribution -0ikit-learn (c:\\programdata\\anaconda3\\lib\\site-packages)\n",
      "WARNING: Ignoring invalid distribution - (c:\\programdata\\anaconda3\\lib\\site-packages)\n",
      "WARNING: Ignoring invalid distribution -ckaging (c:\\programdata\\anaconda3\\lib\\site-packages)\n",
      "WARNING: Ignoring invalid distribution -0ckaging (c:\\programdata\\anaconda3\\lib\\site-packages)\n",
      "WARNING: Ignoring invalid distribution -cipy (c:\\programdata\\anaconda3\\lib\\site-packages)\n",
      "WARNING: Ignoring invalid distribution -cikit-learn (c:\\programdata\\anaconda3\\lib\\site-packages)\n",
      "WARNING: Ignoring invalid distribution -ackaging (c:\\programdata\\anaconda3\\lib\\site-packages)\n",
      "WARNING: Ignoring invalid distribution -ikit-learn (c:\\programdata\\anaconda3\\lib\\site-packages)\n",
      "WARNING: Ignoring invalid distribution -ckaging (c:\\programdata\\anaconda3\\lib\\site-packages)\n",
      "WARNING: Ignoring invalid distribution -5ikit-learn (c:\\programdata\\anaconda3\\lib\\site-packages)\n",
      "WARNING: Ignoring invalid distribution -4ikit-learn (c:\\programdata\\anaconda3\\lib\\site-packages)\n",
      "WARNING: Ignoring invalid distribution -3ikit-learn (c:\\programdata\\anaconda3\\lib\\site-packages)\n",
      "WARNING: Ignoring invalid distribution -2ikit-learn (c:\\programdata\\anaconda3\\lib\\site-packages)\n",
      "WARNING: Ignoring invalid distribution -1ikit-learn (c:\\programdata\\anaconda3\\lib\\site-packages)\n",
      "WARNING: Ignoring invalid distribution -1ckaging (c:\\programdata\\anaconda3\\lib\\site-packages)\n",
      "WARNING: Ignoring invalid distribution -ikit-learn (c:\\programdata\\anaconda3\\lib\\site-packages)\n",
      "WARNING: Ignoring invalid distribution -0ikit-learn (c:\\programdata\\anaconda3\\lib\\site-packages)\n",
      "WARNING: Ignoring invalid distribution - (c:\\programdata\\anaconda3\\lib\\site-packages)\n",
      "WARNING: Ignoring invalid distribution -ckaging (c:\\programdata\\anaconda3\\lib\\site-packages)\n",
      "WARNING: Ignoring invalid distribution -0ckaging (c:\\programdata\\anaconda3\\lib\\site-packages)\n",
      "WARNING: Ignoring invalid distribution -cipy (c:\\programdata\\anaconda3\\lib\\site-packages)\n",
      "WARNING: Ignoring invalid distribution -cikit-learn (c:\\programdata\\anaconda3\\lib\\site-packages)\n",
      "WARNING: Ignoring invalid distribution -ackaging (c:\\programdata\\anaconda3\\lib\\site-packages)\n",
      "WARNING: Ignoring invalid distribution -ikit-learn (c:\\programdata\\anaconda3\\lib\\site-packages)\n",
      "WARNING: Ignoring invalid distribution -ckaging (c:\\programdata\\anaconda3\\lib\\site-packages)\n",
      "WARNING: Ignoring invalid distribution -5ikit-learn (c:\\programdata\\anaconda3\\lib\\site-packages)\n",
      "WARNING: Ignoring invalid distribution -4ikit-learn (c:\\programdata\\anaconda3\\lib\\site-packages)\n",
      "WARNING: Ignoring invalid distribution -3ikit-learn (c:\\programdata\\anaconda3\\lib\\site-packages)\n",
      "WARNING: Ignoring invalid distribution -2ikit-learn (c:\\programdata\\anaconda3\\lib\\site-packages)\n",
      "WARNING: Ignoring invalid distribution -1ikit-learn (c:\\programdata\\anaconda3\\lib\\site-packages)\n",
      "WARNING: Ignoring invalid distribution -1ckaging (c:\\programdata\\anaconda3\\lib\\site-packages)\n",
      "WARNING: Ignoring invalid distribution -ikit-learn (c:\\programdata\\anaconda3\\lib\\site-packages)\n",
      "WARNING: Ignoring invalid distribution -0ikit-learn (c:\\programdata\\anaconda3\\lib\\site-packages)\n",
      "WARNING: Ignoring invalid distribution - (c:\\programdata\\anaconda3\\lib\\site-packages)\n",
      "WARNING: Ignoring invalid distribution -ckaging (c:\\programdata\\anaconda3\\lib\\site-packages)\n",
      "WARNING: Ignoring invalid distribution -0ckaging (c:\\programdata\\anaconda3\\lib\\site-packages)\n",
      "WARNING: Ignoring invalid distribution -cipy (c:\\programdata\\anaconda3\\lib\\site-packages)\n",
      "WARNING: Ignoring invalid distribution -cikit-learn (c:\\programdata\\anaconda3\\lib\\site-packages)\n",
      "WARNING: Ignoring invalid distribution -ackaging (c:\\programdata\\anaconda3\\lib\\site-packages)\n",
      "WARNING: Ignoring invalid distribution -ikit-learn (c:\\programdata\\anaconda3\\lib\\site-packages)\n",
      "WARNING: Ignoring invalid distribution -ckaging (c:\\programdata\\anaconda3\\lib\\site-packages)\n",
      "WARNING: Ignoring invalid distribution -5ikit-learn (c:\\programdata\\anaconda3\\lib\\site-packages)\n",
      "WARNING: Ignoring invalid distribution -4ikit-learn (c:\\programdata\\anaconda3\\lib\\site-packages)\n",
      "WARNING: Ignoring invalid distribution -3ikit-learn (c:\\programdata\\anaconda3\\lib\\site-packages)\n",
      "WARNING: Ignoring invalid distribution -2ikit-learn (c:\\programdata\\anaconda3\\lib\\site-packages)\n",
      "WARNING: Ignoring invalid distribution -1ikit-learn (c:\\programdata\\anaconda3\\lib\\site-packages)\n",
      "WARNING: Ignoring invalid distribution -1ckaging (c:\\programdata\\anaconda3\\lib\\site-packages)\n",
      "WARNING: Ignoring invalid distribution -ikit-learn (c:\\programdata\\anaconda3\\lib\\site-packages)\n",
      "WARNING: Ignoring invalid distribution -0ikit-learn (c:\\programdata\\anaconda3\\lib\\site-packages)\n",
      "WARNING: Ignoring invalid distribution - (c:\\programdata\\anaconda3\\lib\\site-packages)\n",
      "WARNING: Ignoring invalid distribution -ckaging (c:\\programdata\\anaconda3\\lib\\site-packages)\n",
      "WARNING: Ignoring invalid distribution -0ckaging (c:\\programdata\\anaconda3\\lib\\site-packages)\n",
      "WARNING: Ignoring invalid distribution -cipy (c:\\programdata\\anaconda3\\lib\\site-packages)\n",
      "WARNING: Ignoring invalid distribution -cikit-learn (c:\\programdata\\anaconda3\\lib\\site-packages)\n",
      "WARNING: Ignoring invalid distribution -ackaging (c:\\programdata\\anaconda3\\lib\\site-packages)\n"
     ]
    }
   ],
   "source": [
    "!pip install category_encoders"
   ]
  },
  {
   "cell_type": "code",
   "execution_count": 6,
   "id": "1a93f9c4",
   "metadata": {},
   "outputs": [],
   "source": [
    "#import pingouin as pg\n",
    "import scipy\n",
    "from scipy.stats import chi2\n",
    "from scipy.stats import chi2_contingency\n",
    "from scipy.stats import pearsonr, spearmanr\n",
    "from sklearn.preprocessing import MinMaxScaler\n",
    "from sklearn.model_selection import GridSearchCV\n",
    "from sklearn.ensemble import RandomForestClassifier\n",
    "from sklearn.linear_model import LogisticRegression\n",
    "from sklearn.neighbors import KNeighborsClassifier\n",
    "from sklearn.svm import SVC\n",
    "from sklearn import tree\n",
    "from sklearn.tree import export_graphviz\n",
    "from six import StringIO\n",
    "from sklearn.linear_model import Perceptron\n",
    "from sklearn.neural_network import MLPClassifier\n",
    "from sklearn.metrics import  precision_recall_curve, roc_auc_score, confusion_matrix, accuracy_score, recall_score, precision_score, f1_score,auc, roc_curve, plot_confusion_matrix\n",
    "import category_encoders\n",
    "from category_encoders import BinaryEncoder\n",
    "from IPython.display import Image\n",
    "import pydotplus"
   ]
  },
  {
   "cell_type": "code",
   "execution_count": 7,
   "id": "aac56339",
   "metadata": {},
   "outputs": [],
   "source": [
    "from sklearn.tree import DecisionTreeClassifier\n",
    "from sklearn.model_selection import GridSearchCV"
   ]
  },
  {
   "cell_type": "code",
   "execution_count": 8,
   "id": "a5917d65",
   "metadata": {},
   "outputs": [
    {
     "name": "stderr",
     "output_type": "stream",
     "text": [
      "C:\\ProgramData\\Anaconda3\\lib\\site-packages\\IPython\\core\\interactiveshell.py:3444: DtypeWarning: Columns (5) have mixed types.Specify dtype option on import or set low_memory=False.\n",
      "  exec(code_obj, self.user_global_ns, self.user_ns)\n"
     ]
    },
    {
     "data": {
      "text/html": [
       "<div>\n",
       "<style scoped>\n",
       "    .dataframe tbody tr th:only-of-type {\n",
       "        vertical-align: middle;\n",
       "    }\n",
       "\n",
       "    .dataframe tbody tr th {\n",
       "        vertical-align: top;\n",
       "    }\n",
       "\n",
       "    .dataframe thead th {\n",
       "        text-align: right;\n",
       "    }\n",
       "</style>\n",
       "<table border=\"1\" class=\"dataframe\">\n",
       "  <thead>\n",
       "    <tr style=\"text-align: right;\">\n",
       "      <th></th>\n",
       "      <th>ID</th>\n",
       "      <th>Date_Of_Disbursement</th>\n",
       "      <th>Business</th>\n",
       "      <th>Jobs_Reatained</th>\n",
       "      <th>Jobs_Created</th>\n",
       "      <th>Year_Of_Commitment</th>\n",
       "      <th>Guaranteed_Approved _Loan</th>\n",
       "      <th>Borrower_Name</th>\n",
       "      <th>Low_Documentation_Loan</th>\n",
       "      <th>Demography</th>\n",
       "      <th>State_Of_Bank</th>\n",
       "      <th>ChargedOff_Amount</th>\n",
       "      <th>Borrower_City</th>\n",
       "      <th>Borrower_State</th>\n",
       "      <th>Gross_Amount_Balance</th>\n",
       "      <th>Count_Employees</th>\n",
       "      <th>Classification_Code</th>\n",
       "      <th>Loan_Approved_Gross</th>\n",
       "      <th>Gross_Amount_Disbursed</th>\n",
       "      <th>Loan_Term</th>\n",
       "      <th>Commitment_Date</th>\n",
       "      <th>Primary_Loan_Digit</th>\n",
       "      <th>Code_Franchise</th>\n",
       "      <th>Name_Of_Bank</th>\n",
       "      <th>Revolving_Credit_Line</th>\n",
       "      <th>Default</th>\n",
       "    </tr>\n",
       "  </thead>\n",
       "  <tbody>\n",
       "    <tr>\n",
       "      <th>0</th>\n",
       "      <td>0</td>\n",
       "      <td>31-Jul-91</td>\n",
       "      <td>Existing</td>\n",
       "      <td>0</td>\n",
       "      <td>0</td>\n",
       "      <td>1991</td>\n",
       "      <td>Rs.33121600.0</td>\n",
       "      <td>STANDARD PARTS CORPORATION</td>\n",
       "      <td>No</td>\n",
       "      <td>Undefined</td>\n",
       "      <td>AP</td>\n",
       "      <td>Rs.0.0</td>\n",
       "      <td>Mumbai</td>\n",
       "      <td>Maharashtra</td>\n",
       "      <td>Rs.0.0</td>\n",
       "      <td>38</td>\n",
       "      <td>0</td>\n",
       "      <td>Rs.40640000.0</td>\n",
       "      <td>Rs.40640000.0</td>\n",
       "      <td>126</td>\n",
       "      <td>2-Apr-91</td>\n",
       "      <td>4419763001</td>\n",
       "      <td>1</td>\n",
       "      <td>Axis Bank Ltd.</td>\n",
       "      <td>No</td>\n",
       "      <td>0</td>\n",
       "    </tr>\n",
       "    <tr>\n",
       "      <th>1</th>\n",
       "      <td>1</td>\n",
       "      <td>30-Apr-06</td>\n",
       "      <td>New</td>\n",
       "      <td>0</td>\n",
       "      <td>6</td>\n",
       "      <td>2006</td>\n",
       "      <td>Rs.32735520.0</td>\n",
       "      <td>FRANK &amp; KERI AMESTOY</td>\n",
       "      <td>No</td>\n",
       "      <td>Urban</td>\n",
       "      <td>TR</td>\n",
       "      <td>Rs.38283367.68</td>\n",
       "      <td>Delhi</td>\n",
       "      <td>Delhi</td>\n",
       "      <td>Rs.0.0</td>\n",
       "      <td>6</td>\n",
       "      <td>451120</td>\n",
       "      <td>Rs.43647360.0</td>\n",
       "      <td>Rs.43647360.0</td>\n",
       "      <td>123</td>\n",
       "      <td>10-Apr-06</td>\n",
       "      <td>1709796003</td>\n",
       "      <td>1</td>\n",
       "      <td>Bandhan Bank Ltd.</td>\n",
       "      <td>0</td>\n",
       "      <td>1</td>\n",
       "    </tr>\n",
       "    <tr>\n",
       "      <th>2</th>\n",
       "      <td>2</td>\n",
       "      <td>30-Jun-04</td>\n",
       "      <td>Existing</td>\n",
       "      <td>4</td>\n",
       "      <td>0</td>\n",
       "      <td>2004</td>\n",
       "      <td>Rs.1422400.0</td>\n",
       "      <td>TELECOMMQC L L C</td>\n",
       "      <td>No</td>\n",
       "      <td>Urban</td>\n",
       "      <td>AS</td>\n",
       "      <td>Rs.0.0</td>\n",
       "      <td>Bengaluru</td>\n",
       "      <td>Karnataka</td>\n",
       "      <td>Rs.0.0</td>\n",
       "      <td>4</td>\n",
       "      <td>541618</td>\n",
       "      <td>Rs.2844800.0</td>\n",
       "      <td>Rs.5961400.32</td>\n",
       "      <td>90</td>\n",
       "      <td>25-May-04</td>\n",
       "      <td>7464754008</td>\n",
       "      <td>1</td>\n",
       "      <td>CSB Bank Limited</td>\n",
       "      <td>Yes</td>\n",
       "      <td>0</td>\n",
       "    </tr>\n",
       "    <tr>\n",
       "      <th>3</th>\n",
       "      <td>3</td>\n",
       "      <td>31-Jan-06</td>\n",
       "      <td>New</td>\n",
       "      <td>9</td>\n",
       "      <td>1</td>\n",
       "      <td>2006</td>\n",
       "      <td>Rs.2032000.0</td>\n",
       "      <td>K &amp; A AUTOMOTIVE, INC. DBA MUF</td>\n",
       "      <td>No</td>\n",
       "      <td>Urban</td>\n",
       "      <td>BR</td>\n",
       "      <td>Rs.0.0</td>\n",
       "      <td>Ahmedabad</td>\n",
       "      <td>Gujarat</td>\n",
       "      <td>Rs.0.0</td>\n",
       "      <td>7</td>\n",
       "      <td>811112</td>\n",
       "      <td>Rs.4064000.0</td>\n",
       "      <td>Rs.4064000.0</td>\n",
       "      <td>126</td>\n",
       "      <td>21-Dec-05</td>\n",
       "      <td>1588745006</td>\n",
       "      <td>0</td>\n",
       "      <td>City Union Bank Ltd.</td>\n",
       "      <td>Yes</td>\n",
       "      <td>0</td>\n",
       "    </tr>\n",
       "    <tr>\n",
       "      <th>4</th>\n",
       "      <td>4</td>\n",
       "      <td>31-Dec-04</td>\n",
       "      <td>Existing</td>\n",
       "      <td>4</td>\n",
       "      <td>0</td>\n",
       "      <td>2005</td>\n",
       "      <td>Rs.22981920.0</td>\n",
       "      <td>SUNBEAM DELI</td>\n",
       "      <td>No</td>\n",
       "      <td>Urban</td>\n",
       "      <td>TR</td>\n",
       "      <td>Rs.22862519.68</td>\n",
       "      <td>Hyderabad</td>\n",
       "      <td>Telangana</td>\n",
       "      <td>Rs.0.0</td>\n",
       "      <td>4</td>\n",
       "      <td>722211</td>\n",
       "      <td>Rs.30642560.0</td>\n",
       "      <td>Rs.30642560.0</td>\n",
       "      <td>104</td>\n",
       "      <td>2-Nov-04</td>\n",
       "      <td>8037734002</td>\n",
       "      <td>1</td>\n",
       "      <td>DCB Bank Ltd.</td>\n",
       "      <td>0</td>\n",
       "      <td>1</td>\n",
       "    </tr>\n",
       "  </tbody>\n",
       "</table>\n",
       "</div>"
      ],
      "text/plain": [
       "   ID Date_Of_Disbursement  Business  Jobs_Reatained  Jobs_Created  Year_Of_Commitment  Guaranteed_Approved _Loan                  Borrower_Name  Low_Documentation_Loan Demography State_Of_Bank ChargedOff_Amount  Borrower_City Borrower_State Gross_Amount_Balance  Count_Employees  Classification_Code  Loan_Approved_Gross Gross_Amount_Disbursed    Loan_Term Commitment_Date  Primary_Loan_Digit  \\\n",
       "0   0            31-Jul-91  Existing               0              0                1991             Rs.33121600.0      STANDARD PARTS CORPORATION                     No  Undefined            AP             Rs.0.0        Mumbai    Maharashtra               Rs.0.0               38                     0       Rs.40640000.0            Rs.40640000.0        126        2-Apr-91          4419763001   \n",
       "1   1            30-Apr-06       New               0              6                2006             Rs.32735520.0            FRANK & KERI AMESTOY                     No      Urban            TR     Rs.38283367.68         Delhi          Delhi               Rs.0.0                6                451120       Rs.43647360.0            Rs.43647360.0        123       10-Apr-06          1709796003   \n",
       "2   2            30-Jun-04  Existing               4              0                2004              Rs.1422400.0                TELECOMMQC L L C                     No      Urban            AS             Rs.0.0     Bengaluru      Karnataka               Rs.0.0                4                541618        Rs.2844800.0            Rs.5961400.32         90       25-May-04          7464754008   \n",
       "3   3            31-Jan-06       New               9              1                2006              Rs.2032000.0  K & A AUTOMOTIVE, INC. DBA MUF                     No      Urban            BR             Rs.0.0     Ahmedabad        Gujarat               Rs.0.0                7                811112        Rs.4064000.0             Rs.4064000.0        126       21-Dec-05          1588745006   \n",
       "4   4            31-Dec-04  Existing               4              0                2005             Rs.22981920.0                    SUNBEAM DELI                     No      Urban            TR     Rs.22862519.68     Hyderabad      Telangana               Rs.0.0                4                722211       Rs.30642560.0            Rs.30642560.0        104        2-Nov-04          8037734002   \n",
       "\n",
       "   Code_Franchise          Name_Of_Bank Revolving_Credit_Line  Default  \n",
       "0               1        Axis Bank Ltd.                    No        0  \n",
       "1               1     Bandhan Bank Ltd.                     0        1  \n",
       "2               1      CSB Bank Limited                   Yes        0  \n",
       "3               0  City Union Bank Ltd.                   Yes        0  \n",
       "4               1         DCB Bank Ltd.                     0        1  "
      ]
     },
     "execution_count": 8,
     "metadata": {},
     "output_type": "execute_result"
    }
   ],
   "source": [
    "ldf = pd.read_csv(\"training_data.csv\")\n",
    "ldf.head()"
   ]
  },
  {
   "cell_type": "code",
   "execution_count": 9,
   "id": "58a8d7d6",
   "metadata": {},
   "outputs": [
    {
     "data": {
      "text/plain": [
       "(105000, 26)"
      ]
     },
     "execution_count": 9,
     "metadata": {},
     "output_type": "execute_result"
    }
   ],
   "source": [
    "ldf.shape"
   ]
  },
  {
   "cell_type": "code",
   "execution_count": 10,
   "id": "1b6c73e7",
   "metadata": {},
   "outputs": [
    {
     "name": "stdout",
     "output_type": "stream",
     "text": [
      "<class 'pandas.core.frame.DataFrame'>\n",
      "RangeIndex: 105000 entries, 0 to 104999\n",
      "Data columns (total 26 columns):\n",
      " #   Column                     Non-Null Count   Dtype \n",
      "---  ------                     --------------   ----- \n",
      " 0   ID                         105000 non-null  int64 \n",
      " 1   Date_Of_Disbursement       104765 non-null  object\n",
      " 2   Business                   104985 non-null  object\n",
      " 3   Jobs_Reatained             105000 non-null  int64 \n",
      " 4   Jobs_Created               105000 non-null  int64 \n",
      " 5   Year_Of_Commitment         105000 non-null  object\n",
      " 6   Guaranteed_Approved _Loan  105000 non-null  object\n",
      " 7   Borrower_Name              104997 non-null  object\n",
      " 8   Low_Documentation_Loan     104633 non-null  object\n",
      " 9   Demography                 105000 non-null  object\n",
      " 10  State_Of_Bank              105000 non-null  object\n",
      " 11  ChargedOff_Amount          105000 non-null  object\n",
      " 12  Borrower_City              105000 non-null  object\n",
      " 13  Borrower_State             105000 non-null  object\n",
      " 14  Gross_Amount_Balance       105000 non-null  object\n",
      " 15  Count_Employees            105000 non-null  int64 \n",
      " 16  Classification_Code        105000 non-null  int64 \n",
      " 17  Loan_Approved_Gross        105000 non-null  object\n",
      " 18  Gross_Amount_Disbursed     105000 non-null  object\n",
      " 19  Loan_Term                  105000 non-null  int64 \n",
      " 20  Commitment_Date            105000 non-null  object\n",
      " 21  Primary_Loan_Digit         105000 non-null  int64 \n",
      " 22  Code_Franchise             105000 non-null  int64 \n",
      " 23  Name_Of_Bank               105000 non-null  object\n",
      " 24  Revolving_Credit_Line      104509 non-null  object\n",
      " 25  Default                    105000 non-null  int64 \n",
      "dtypes: int64(9), object(17)\n",
      "memory usage: 20.8+ MB\n"
     ]
    }
   ],
   "source": [
    "ldf.info()"
   ]
  },
  {
   "cell_type": "code",
   "execution_count": 11,
   "id": "3a06d089",
   "metadata": {},
   "outputs": [
    {
     "data": {
      "text/plain": [
       "Index(['ID', 'Date_Of_Disbursement', 'Business', 'Jobs_Reatained', 'Jobs_Created ', 'Year_Of_Commitment ', 'Guaranteed_Approved _Loan', 'Borrower_Name ', 'Low_Documentation_Loan', 'Demography', 'State_Of_Bank', 'ChargedOff_Amount ', 'Borrower_City', 'Borrower_State', 'Gross_Amount_Balance', 'Count_Employees', 'Classification_Code ', 'Loan_Approved_Gross', 'Gross_Amount_Disbursed  ', 'Loan_Term',\n",
       "       'Commitment_Date', 'Primary_Loan_Digit', 'Code_Franchise', 'Name_Of_Bank', 'Revolving_Credit_Line', 'Default'],\n",
       "      dtype='object')"
      ]
     },
     "execution_count": 11,
     "metadata": {},
     "output_type": "execute_result"
    }
   ],
   "source": [
    "ldf.columns"
   ]
  },
  {
   "cell_type": "code",
   "execution_count": 12,
   "id": "2ecd1ca0",
   "metadata": {},
   "outputs": [],
   "source": [
    "#Data cleaning\n",
    "ldf[\"Guaranteed_Approved _Loan\"]=ldf[\"Guaranteed_Approved _Loan\"].apply(lambda x:x.replace(\"Rs.\",\"\")).astype(\"float\")"
   ]
  },
  {
   "cell_type": "code",
   "execution_count": 13,
   "id": "d31a14a7",
   "metadata": {},
   "outputs": [],
   "source": [
    "ldf['ChargedOff_Amount ']=ldf['ChargedOff_Amount '].apply(lambda x:x.replace(\"Rs.\",\"\")).astype(\"float\")"
   ]
  },
  {
   "cell_type": "code",
   "execution_count": 14,
   "id": "b44ff616",
   "metadata": {},
   "outputs": [],
   "source": [
    "ldf['Gross_Amount_Balance']=ldf['Gross_Amount_Balance'].apply(lambda x:x.replace(\"Rs.\",\"\")).astype(\"float\")"
   ]
  },
  {
   "cell_type": "code",
   "execution_count": 15,
   "id": "5dab1173",
   "metadata": {},
   "outputs": [],
   "source": [
    "ldf[\"Loan_Approved_Gross\"]=ldf['Loan_Approved_Gross'].apply(lambda x:x.replace(\"Rs.\",\"\")).astype(\"float\")"
   ]
  },
  {
   "cell_type": "code",
   "execution_count": 16,
   "id": "5ece028e",
   "metadata": {},
   "outputs": [],
   "source": [
    "ldf['Gross_Amount_Disbursed  ']=ldf['Gross_Amount_Disbursed  '].apply(lambda x:x.replace(\"Rs.\",\"\")).astype(\"float\")"
   ]
  },
  {
   "cell_type": "code",
   "execution_count": 17,
   "id": "268e6faf",
   "metadata": {},
   "outputs": [
    {
     "data": {
      "text/plain": [
       "ID                             int64\n",
       "Date_Of_Disbursement          object\n",
       "Business                      object\n",
       "Jobs_Reatained                 int64\n",
       "Jobs_Created                   int64\n",
       "Year_Of_Commitment            object\n",
       "Guaranteed_Approved _Loan    float64\n",
       "Borrower_Name                 object\n",
       "Low_Documentation_Loan        object\n",
       "Demography                    object\n",
       "State_Of_Bank                 object\n",
       "ChargedOff_Amount            float64\n",
       "Borrower_City                 object\n",
       "Borrower_State                object\n",
       "Gross_Amount_Balance         float64\n",
       "Count_Employees                int64\n",
       "Classification_Code            int64\n",
       "Loan_Approved_Gross          float64\n",
       "Gross_Amount_Disbursed       float64\n",
       "Loan_Term                      int64\n",
       "Commitment_Date               object\n",
       "Primary_Loan_Digit             int64\n",
       "Code_Franchise                 int64\n",
       "Name_Of_Bank                  object\n",
       "Revolving_Credit_Line         object\n",
       "Default                        int64\n",
       "dtype: object"
      ]
     },
     "execution_count": 17,
     "metadata": {},
     "output_type": "execute_result"
    }
   ],
   "source": [
    "ldf.dtypes"
   ]
  },
  {
   "cell_type": "markdown",
   "id": "44da6829",
   "metadata": {},
   "source": [
    "# EDA"
   ]
  },
  {
   "cell_type": "code",
   "execution_count": 18,
   "id": "0bfc367b",
   "metadata": {},
   "outputs": [
    {
     "data": {
      "text/html": [
       "<div>\n",
       "<style scoped>\n",
       "    .dataframe tbody tr th:only-of-type {\n",
       "        vertical-align: middle;\n",
       "    }\n",
       "\n",
       "    .dataframe tbody tr th {\n",
       "        vertical-align: top;\n",
       "    }\n",
       "\n",
       "    .dataframe thead th {\n",
       "        text-align: right;\n",
       "    }\n",
       "</style>\n",
       "<table border=\"1\" class=\"dataframe\">\n",
       "  <thead>\n",
       "    <tr style=\"text-align: right;\">\n",
       "      <th></th>\n",
       "      <th>ID</th>\n",
       "      <th>Jobs_Reatained</th>\n",
       "      <th>Jobs_Created</th>\n",
       "      <th>Guaranteed_Approved _Loan</th>\n",
       "      <th>ChargedOff_Amount</th>\n",
       "      <th>Gross_Amount_Balance</th>\n",
       "      <th>Count_Employees</th>\n",
       "      <th>Classification_Code</th>\n",
       "      <th>Loan_Approved_Gross</th>\n",
       "      <th>Gross_Amount_Disbursed</th>\n",
       "      <th>Loan_Term</th>\n",
       "      <th>Primary_Loan_Digit</th>\n",
       "      <th>Code_Franchise</th>\n",
       "      <th>Default</th>\n",
       "    </tr>\n",
       "  </thead>\n",
       "  <tbody>\n",
       "    <tr>\n",
       "      <th>count</th>\n",
       "      <td>105000.00</td>\n",
       "      <td>105000.00</td>\n",
       "      <td>105000.00</td>\n",
       "      <td>105000.00</td>\n",
       "      <td>105000.00</td>\n",
       "      <td>105000.00</td>\n",
       "      <td>105000.00</td>\n",
       "      <td>105000.00</td>\n",
       "      <td>105000.00</td>\n",
       "      <td>105000.00</td>\n",
       "      <td>105000.00</td>\n",
       "      <td>105000.00</td>\n",
       "      <td>105000.00</td>\n",
       "      <td>105000.00</td>\n",
       "    </tr>\n",
       "    <tr>\n",
       "      <th>mean</th>\n",
       "      <td>52499.50</td>\n",
       "      <td>12.69</td>\n",
       "      <td>10.38</td>\n",
       "      <td>11517381.58</td>\n",
       "      <td>1711913.02</td>\n",
       "      <td>76.38</td>\n",
       "      <td>9.90</td>\n",
       "      <td>405918.30</td>\n",
       "      <td>14922003.37</td>\n",
       "      <td>15638777.12</td>\n",
       "      <td>156.44</td>\n",
       "      <td>4661622163.72</td>\n",
       "      <td>2707.20</td>\n",
       "      <td>0.28</td>\n",
       "    </tr>\n",
       "    <tr>\n",
       "      <th>std</th>\n",
       "      <td>30311.03</td>\n",
       "      <td>270.54</td>\n",
       "      <td>270.34</td>\n",
       "      <td>18189159.66</td>\n",
       "      <td>6520105.92</td>\n",
       "      <td>24311.97</td>\n",
       "      <td>58.16</td>\n",
       "      <td>260335.96</td>\n",
       "      <td>22628520.41</td>\n",
       "      <td>22886265.74</td>\n",
       "      <td>116.41</td>\n",
       "      <td>2546598534.84</td>\n",
       "      <td>12660.61</td>\n",
       "      <td>0.45</td>\n",
       "    </tr>\n",
       "    <tr>\n",
       "      <th>min</th>\n",
       "      <td>0.00</td>\n",
       "      <td>0.00</td>\n",
       "      <td>0.00</td>\n",
       "      <td>40640.00</td>\n",
       "      <td>0.00</td>\n",
       "      <td>0.00</td>\n",
       "      <td>0.00</td>\n",
       "      <td>0.00</td>\n",
       "      <td>81280.00</td>\n",
       "      <td>325120.00</td>\n",
       "      <td>0.00</td>\n",
       "      <td>1000034009.00</td>\n",
       "      <td>0.00</td>\n",
       "      <td>0.00</td>\n",
       "    </tr>\n",
       "    <tr>\n",
       "      <th>25%</th>\n",
       "      <td>26249.75</td>\n",
       "      <td>0.00</td>\n",
       "      <td>0.00</td>\n",
       "      <td>1625600.00</td>\n",
       "      <td>0.00</td>\n",
       "      <td>0.00</td>\n",
       "      <td>2.00</td>\n",
       "      <td>236115.00</td>\n",
       "      <td>2600960.00</td>\n",
       "      <td>3251200.00</td>\n",
       "      <td>90.00</td>\n",
       "      <td>2478163259.25</td>\n",
       "      <td>0.00</td>\n",
       "      <td>0.00</td>\n",
       "    </tr>\n",
       "    <tr>\n",
       "      <th>50%</th>\n",
       "      <td>52499.50</td>\n",
       "      <td>1.00</td>\n",
       "      <td>0.00</td>\n",
       "      <td>4226560.00</td>\n",
       "      <td>0.00</td>\n",
       "      <td>0.00</td>\n",
       "      <td>4.00</td>\n",
       "      <td>447110.00</td>\n",
       "      <td>6502400.00</td>\n",
       "      <td>7802880.00</td>\n",
       "      <td>126.00</td>\n",
       "      <td>4119823502.00</td>\n",
       "      <td>1.00</td>\n",
       "      <td>0.00</td>\n",
       "    </tr>\n",
       "    <tr>\n",
       "      <th>75%</th>\n",
       "      <td>78749.25</td>\n",
       "      <td>4.00</td>\n",
       "      <td>1.00</td>\n",
       "      <td>13167360.00</td>\n",
       "      <td>617016.80</td>\n",
       "      <td>0.00</td>\n",
       "      <td>9.00</td>\n",
       "      <td>561740.00</td>\n",
       "      <td>16906240.00</td>\n",
       "      <td>18125785.44</td>\n",
       "      <td>180.00</td>\n",
       "      <td>6760484004.50</td>\n",
       "      <td>1.00</td>\n",
       "      <td>1.00</td>\n",
       "    </tr>\n",
       "    <tr>\n",
       "      <th>max</th>\n",
       "      <td>104999.00</td>\n",
       "      <td>8800.00</td>\n",
       "      <td>8800.00</td>\n",
       "      <td>365760000.00</td>\n",
       "      <td>162559918.72</td>\n",
       "      <td>7876682.24</td>\n",
       "      <td>7200.00</td>\n",
       "      <td>928120.00</td>\n",
       "      <td>406400000.00</td>\n",
       "      <td>731113600.00</td>\n",
       "      <td>692.00</td>\n",
       "      <td>9996003010.00</td>\n",
       "      <td>92006.00</td>\n",
       "      <td>1.00</td>\n",
       "    </tr>\n",
       "  </tbody>\n",
       "</table>\n",
       "</div>"
      ],
      "text/plain": [
       "             ID  Jobs_Reatained  Jobs_Created   Guaranteed_Approved _Loan  ChargedOff_Amount   Gross_Amount_Balance  Count_Employees  Classification_Code   Loan_Approved_Gross  Gross_Amount_Disbursed    Loan_Term  Primary_Loan_Digit  Code_Franchise   Default\n",
       "count 105000.00       105000.00      105000.00                  105000.00           105000.00             105000.00        105000.00             105000.00            105000.00                 105000.00  105000.00           105000.00       105000.00 105000.00\n",
       "mean   52499.50           12.69          10.38                11517381.58          1711913.02                 76.38             9.90             405918.30          14922003.37               15638777.12     156.44       4661622163.72         2707.20      0.28\n",
       "std    30311.03          270.54         270.34                18189159.66          6520105.92              24311.97            58.16             260335.96          22628520.41               22886265.74     116.41       2546598534.84        12660.61      0.45\n",
       "min        0.00            0.00           0.00                   40640.00                0.00                  0.00             0.00                  0.00             81280.00                 325120.00       0.00       1000034009.00            0.00      0.00\n",
       "25%    26249.75            0.00           0.00                 1625600.00                0.00                  0.00             2.00             236115.00           2600960.00                3251200.00      90.00       2478163259.25            0.00      0.00\n",
       "50%    52499.50            1.00           0.00                 4226560.00                0.00                  0.00             4.00             447110.00           6502400.00                7802880.00     126.00       4119823502.00            1.00      0.00\n",
       "75%    78749.25            4.00           1.00                13167360.00           617016.80                  0.00             9.00             561740.00          16906240.00               18125785.44     180.00       6760484004.50            1.00      1.00\n",
       "max   104999.00         8800.00        8800.00               365760000.00        162559918.72            7876682.24          7200.00             928120.00         406400000.00              731113600.00     692.00       9996003010.00        92006.00      1.00"
      ]
     },
     "execution_count": 18,
     "metadata": {},
     "output_type": "execute_result"
    }
   ],
   "source": [
    "ldf.describe().round(3) #Stats of numeric attributes"
   ]
  },
  {
   "cell_type": "code",
   "execution_count": 19,
   "id": "6ea58060",
   "metadata": {},
   "outputs": [
    {
     "name": "stderr",
     "output_type": "stream",
     "text": [
      "C:\\Users\\sneha\\AppData\\Local\\Temp/ipykernel_7436/922194772.py:1: DeprecationWarning: `np.object` is a deprecated alias for the builtin `object`. To silence this warning, use `object` by itself. Doing this will not modify any behavior and is safe. \n",
      "Deprecated in NumPy 1.20; for more details and guidance: https://numpy.org/devdocs/release/1.20.0-notes.html#deprecations\n",
      "  ldf.describe(include=[np.object]) #stats of categorical attributes\n"
     ]
    },
    {
     "data": {
      "text/html": [
       "<div>\n",
       "<style scoped>\n",
       "    .dataframe tbody tr th:only-of-type {\n",
       "        vertical-align: middle;\n",
       "    }\n",
       "\n",
       "    .dataframe tbody tr th {\n",
       "        vertical-align: top;\n",
       "    }\n",
       "\n",
       "    .dataframe thead th {\n",
       "        text-align: right;\n",
       "    }\n",
       "</style>\n",
       "<table border=\"1\" class=\"dataframe\">\n",
       "  <thead>\n",
       "    <tr style=\"text-align: right;\">\n",
       "      <th></th>\n",
       "      <th>Date_Of_Disbursement</th>\n",
       "      <th>Business</th>\n",
       "      <th>Year_Of_Commitment</th>\n",
       "      <th>Borrower_Name</th>\n",
       "      <th>Low_Documentation_Loan</th>\n",
       "      <th>Demography</th>\n",
       "      <th>State_Of_Bank</th>\n",
       "      <th>Borrower_City</th>\n",
       "      <th>Borrower_State</th>\n",
       "      <th>Commitment_Date</th>\n",
       "      <th>Name_Of_Bank</th>\n",
       "      <th>Revolving_Credit_Line</th>\n",
       "    </tr>\n",
       "  </thead>\n",
       "  <tbody>\n",
       "    <tr>\n",
       "      <th>count</th>\n",
       "      <td>104765</td>\n",
       "      <td>104985</td>\n",
       "      <td>105000</td>\n",
       "      <td>104997</td>\n",
       "      <td>104633</td>\n",
       "      <td>105000</td>\n",
       "      <td>105000</td>\n",
       "      <td>105000</td>\n",
       "      <td>105000</td>\n",
       "      <td>105000</td>\n",
       "      <td>105000</td>\n",
       "      <td>104509</td>\n",
       "    </tr>\n",
       "    <tr>\n",
       "      <th>unique</th>\n",
       "      <td>3505</td>\n",
       "      <td>3</td>\n",
       "      <td>91</td>\n",
       "      <td>101068</td>\n",
       "      <td>7</td>\n",
       "      <td>3</td>\n",
       "      <td>34</td>\n",
       "      <td>1193</td>\n",
       "      <td>41</td>\n",
       "      <td>7719</td>\n",
       "      <td>143</td>\n",
       "      <td>11</td>\n",
       "    </tr>\n",
       "    <tr>\n",
       "      <th>top</th>\n",
       "      <td>31-Jul-95</td>\n",
       "      <td>Existing</td>\n",
       "      <td>2007</td>\n",
       "      <td>SUBWAY</td>\n",
       "      <td>No</td>\n",
       "      <td>Urban</td>\n",
       "      <td>TR</td>\n",
       "      <td>Jhansi</td>\n",
       "      <td>Maharashtra</td>\n",
       "      <td>30-Jan-04</td>\n",
       "      <td>ICICI Bank Ltd.</td>\n",
       "      <td>No</td>\n",
       "    </tr>\n",
       "    <tr>\n",
       "      <th>freq</th>\n",
       "      <td>1111</td>\n",
       "      <td>75091</td>\n",
       "      <td>6769</td>\n",
       "      <td>147</td>\n",
       "      <td>92135</td>\n",
       "      <td>57598</td>\n",
       "      <td>15552</td>\n",
       "      <td>1504</td>\n",
       "      <td>11699</td>\n",
       "      <td>128</td>\n",
       "      <td>11215</td>\n",
       "      <td>48122</td>\n",
       "    </tr>\n",
       "  </tbody>\n",
       "</table>\n",
       "</div>"
      ],
      "text/plain": [
       "       Date_Of_Disbursement  Business Year_Of_Commitment  Borrower_Name  Low_Documentation_Loan Demography State_Of_Bank Borrower_City Borrower_State Commitment_Date     Name_Of_Bank Revolving_Credit_Line\n",
       "count                104765    104985              105000         104997                 104633     105000        105000        105000         105000          105000           105000                104509\n",
       "unique                 3505         3                  91         101068                      7          3            34          1193             41            7719              143                    11\n",
       "top               31-Jul-95  Existing                2007         SUBWAY                     No      Urban            TR        Jhansi    Maharashtra       30-Jan-04  ICICI Bank Ltd.                    No\n",
       "freq                   1111     75091                6769            147                  92135      57598         15552          1504          11699             128            11215                 48122"
      ]
     },
     "execution_count": 19,
     "metadata": {},
     "output_type": "execute_result"
    }
   ],
   "source": [
    "ldf.describe(include=[np.object]) #stats of categorical attributes"
   ]
  },
  {
   "cell_type": "code",
   "execution_count": 20,
   "id": "877d867f",
   "metadata": {},
   "outputs": [
    {
     "data": {
      "text/plain": [
       "<matplotlib.legend.Legend at 0x236aca32910>"
      ]
     },
     "execution_count": 20,
     "metadata": {},
     "output_type": "execute_result"
    },
    {
     "data": {
      "image/png": "[encoded data removed]",
      "text/plain": [
       "<Figure size 1008x432 with 1 Axes>"
      ]
     },
     "metadata": {},
     "output_type": "display_data"
    }
   ],
   "source": [
    "# Checking data balance/proportion\n",
    "# pie chart\n",
    "ldf.Default.value_counts().plot(kind='pie', subplots=True, autopct='%1.2f%%', explode= (0.05, 0.05), startangle=80, legend=True, fontsize=12, figsize=(14,6), textprops={'color':\"black\"})\n",
    "plt.legend([\"0:Not Defaulted, 1:Defaulted\"])"
   ]
  },
  {
   "cell_type": "markdown",
   "id": "ff10b449",
   "metadata": {},
   "source": [
    "Unbalanced data: target has 72.28% of non default results (value 0) against 27.72% of loans that ended up being default (value 1)."
   ]
  },
  {
   "cell_type": "code",
   "execution_count": 21,
   "id": "d8751d27",
   "metadata": {},
   "outputs": [
    {
     "data": {
      "text/plain": [
       "ID                             int64\n",
       "Code_Franchise                 int64\n",
       "Primary_Loan_Digit             int64\n",
       "Loan_Term                      int64\n",
       "Classification_Code            int64\n",
       "Count_Employees                int64\n",
       "Default                        int64\n",
       "Jobs_Created                   int64\n",
       "Jobs_Reatained                 int64\n",
       "ChargedOff_Amount            float64\n",
       "Gross_Amount_Balance         float64\n",
       "Gross_Amount_Disbursed       float64\n",
       "Guaranteed_Approved _Loan    float64\n",
       "Loan_Approved_Gross          float64\n",
       "Name_Of_Bank                  object\n",
       "Date_Of_Disbursement          object\n",
       "Business                      object\n",
       "Commitment_Date               object\n",
       "Borrower_Name                 object\n",
       "Borrower_State                object\n",
       "Revolving_Credit_Line         object\n",
       "State_Of_Bank                 object\n",
       "Demography                    object\n",
       "Low_Documentation_Loan        object\n",
       "Year_Of_Commitment            object\n",
       "Borrower_City                 object\n",
       "dtype: object"
      ]
     },
     "execution_count": 21,
     "metadata": {},
     "output_type": "execute_result"
    }
   ],
   "source": [
    "ldf.dtypes.sort_values(ascending=True)"
   ]
  },
  {
   "cell_type": "code",
   "execution_count": 22,
   "id": "94de257d",
   "metadata": {},
   "outputs": [
    {
     "data": {
      "text/plain": [
       "object     12\n",
       "int64       9\n",
       "float64     5\n",
       "dtype: int64"
      ]
     },
     "execution_count": 22,
     "metadata": {},
     "output_type": "execute_result"
    }
   ],
   "source": [
    "ldf.dtypes.value_counts()"
   ]
  },
  {
   "cell_type": "code",
   "execution_count": 23,
   "id": "dcde59df",
   "metadata": {},
   "outputs": [
    {
     "data": {
      "text/html": [
       "<div>\n",
       "<style scoped>\n",
       "    .dataframe tbody tr th:only-of-type {\n",
       "        vertical-align: middle;\n",
       "    }\n",
       "\n",
       "    .dataframe tbody tr th {\n",
       "        vertical-align: top;\n",
       "    }\n",
       "\n",
       "    .dataframe thead th {\n",
       "        text-align: right;\n",
       "    }\n",
       "</style>\n",
       "<table border=\"1\" class=\"dataframe\">\n",
       "  <thead>\n",
       "    <tr style=\"text-align: right;\">\n",
       "      <th></th>\n",
       "      <th>absolute</th>\n",
       "      <th>percent</th>\n",
       "    </tr>\n",
       "  </thead>\n",
       "  <tbody>\n",
       "    <tr>\n",
       "      <th>ID</th>\n",
       "      <td>0</td>\n",
       "      <td>0.00</td>\n",
       "    </tr>\n",
       "    <tr>\n",
       "      <th>Date_Of_Disbursement</th>\n",
       "      <td>235</td>\n",
       "      <td>21.15</td>\n",
       "    </tr>\n",
       "    <tr>\n",
       "      <th>Business</th>\n",
       "      <td>15</td>\n",
       "      <td>1.35</td>\n",
       "    </tr>\n",
       "    <tr>\n",
       "      <th>Jobs_Reatained</th>\n",
       "      <td>0</td>\n",
       "      <td>0.00</td>\n",
       "    </tr>\n",
       "    <tr>\n",
       "      <th>Jobs_Created</th>\n",
       "      <td>0</td>\n",
       "      <td>0.00</td>\n",
       "    </tr>\n",
       "    <tr>\n",
       "      <th>Year_Of_Commitment</th>\n",
       "      <td>0</td>\n",
       "      <td>0.00</td>\n",
       "    </tr>\n",
       "    <tr>\n",
       "      <th>Guaranteed_Approved _Loan</th>\n",
       "      <td>0</td>\n",
       "      <td>0.00</td>\n",
       "    </tr>\n",
       "    <tr>\n",
       "      <th>Borrower_Name</th>\n",
       "      <td>3</td>\n",
       "      <td>0.27</td>\n",
       "    </tr>\n",
       "    <tr>\n",
       "      <th>Low_Documentation_Loan</th>\n",
       "      <td>367</td>\n",
       "      <td>33.03</td>\n",
       "    </tr>\n",
       "    <tr>\n",
       "      <th>Demography</th>\n",
       "      <td>0</td>\n",
       "      <td>0.00</td>\n",
       "    </tr>\n",
       "    <tr>\n",
       "      <th>State_Of_Bank</th>\n",
       "      <td>0</td>\n",
       "      <td>0.00</td>\n",
       "    </tr>\n",
       "    <tr>\n",
       "      <th>ChargedOff_Amount</th>\n",
       "      <td>0</td>\n",
       "      <td>0.00</td>\n",
       "    </tr>\n",
       "    <tr>\n",
       "      <th>Borrower_City</th>\n",
       "      <td>0</td>\n",
       "      <td>0.00</td>\n",
       "    </tr>\n",
       "    <tr>\n",
       "      <th>Borrower_State</th>\n",
       "      <td>0</td>\n",
       "      <td>0.00</td>\n",
       "    </tr>\n",
       "    <tr>\n",
       "      <th>Gross_Amount_Balance</th>\n",
       "      <td>0</td>\n",
       "      <td>0.00</td>\n",
       "    </tr>\n",
       "    <tr>\n",
       "      <th>Count_Employees</th>\n",
       "      <td>0</td>\n",
       "      <td>0.00</td>\n",
       "    </tr>\n",
       "    <tr>\n",
       "      <th>Classification_Code</th>\n",
       "      <td>0</td>\n",
       "      <td>0.00</td>\n",
       "    </tr>\n",
       "    <tr>\n",
       "      <th>Loan_Approved_Gross</th>\n",
       "      <td>0</td>\n",
       "      <td>0.00</td>\n",
       "    </tr>\n",
       "    <tr>\n",
       "      <th>Gross_Amount_Disbursed</th>\n",
       "      <td>0</td>\n",
       "      <td>0.00</td>\n",
       "    </tr>\n",
       "    <tr>\n",
       "      <th>Loan_Term</th>\n",
       "      <td>0</td>\n",
       "      <td>0.00</td>\n",
       "    </tr>\n",
       "    <tr>\n",
       "      <th>Commitment_Date</th>\n",
       "      <td>0</td>\n",
       "      <td>0.00</td>\n",
       "    </tr>\n",
       "    <tr>\n",
       "      <th>Primary_Loan_Digit</th>\n",
       "      <td>0</td>\n",
       "      <td>0.00</td>\n",
       "    </tr>\n",
       "    <tr>\n",
       "      <th>Code_Franchise</th>\n",
       "      <td>0</td>\n",
       "      <td>0.00</td>\n",
       "    </tr>\n",
       "    <tr>\n",
       "      <th>Name_Of_Bank</th>\n",
       "      <td>0</td>\n",
       "      <td>0.00</td>\n",
       "    </tr>\n",
       "    <tr>\n",
       "      <th>Revolving_Credit_Line</th>\n",
       "      <td>491</td>\n",
       "      <td>44.19</td>\n",
       "    </tr>\n",
       "    <tr>\n",
       "      <th>Default</th>\n",
       "      <td>0</td>\n",
       "      <td>0.00</td>\n",
       "    </tr>\n",
       "  </tbody>\n",
       "</table>\n",
       "</div>"
      ],
      "text/plain": [
       "                           absolute  percent\n",
       "ID                                0     0.00\n",
       "Date_Of_Disbursement            235    21.15\n",
       "Business                         15     1.35\n",
       "Jobs_Reatained                    0     0.00\n",
       "Jobs_Created                      0     0.00\n",
       "Year_Of_Commitment                0     0.00\n",
       "Guaranteed_Approved _Loan         0     0.00\n",
       "Borrower_Name                     3     0.27\n",
       "Low_Documentation_Loan          367    33.03\n",
       "Demography                        0     0.00\n",
       "State_Of_Bank                     0     0.00\n",
       "ChargedOff_Amount                 0     0.00\n",
       "Borrower_City                     0     0.00\n",
       "Borrower_State                    0     0.00\n",
       "Gross_Amount_Balance              0     0.00\n",
       "Count_Employees                   0     0.00\n",
       "Classification_Code               0     0.00\n",
       "Loan_Approved_Gross               0     0.00\n",
       "Gross_Amount_Disbursed            0     0.00\n",
       "Loan_Term                         0     0.00\n",
       "Commitment_Date                   0     0.00\n",
       "Primary_Loan_Digit                0     0.00\n",
       "Code_Franchise                    0     0.00\n",
       "Name_Of_Bank                      0     0.00\n",
       "Revolving_Credit_Line           491    44.19\n",
       "Default                           0     0.00"
      ]
     },
     "execution_count": 23,
     "metadata": {},
     "output_type": "execute_result"
    }
   ],
   "source": [
    "#missing values detection\n",
    "nulval = ldf.isnull().sum().to_frame().rename(columns={0:\"absolute\"})\n",
    "nulval[\"percent\"] = (nulval.apply(lambda x: x/x.sum())*100).round(2)\n",
    "nulval"
   ]
  },
  {
   "cell_type": "code",
   "execution_count": 24,
   "id": "27c7e044",
   "metadata": {},
   "outputs": [
    {
     "data": {
      "image/png": "[encoded data removed]",
      "text/plain": [
       "<Figure size 720x648 with 16 Axes>"
      ]
     },
     "metadata": {},
     "output_type": "display_data"
    }
   ],
   "source": [
    "#for numerical variables\n",
    "ldf.hist(figsize=(10,9), bins=12, ec=\"b\", xlabelsize=8, ylabelsize=8, alpha=0.9, grid=False)\n",
    "plt.tight_layout()\n",
    "plt.show()"
   ]
  },
  {
   "cell_type": "code",
   "execution_count": 25,
   "id": "d46b575c",
   "metadata": {},
   "outputs": [
    {
     "data": {
      "text/plain": [
       "Index(['ID', 'Date_Of_Disbursement', 'Business', 'Jobs_Reatained', 'Jobs_Created ', 'Year_Of_Commitment ', 'Guaranteed_Approved _Loan', 'Borrower_Name ', 'Low_Documentation_Loan', 'Demography', 'State_Of_Bank', 'ChargedOff_Amount ', 'Borrower_City', 'Borrower_State', 'Gross_Amount_Balance', 'Count_Employees', 'Classification_Code ', 'Loan_Approved_Gross', 'Gross_Amount_Disbursed  ', 'Loan_Term',\n",
       "       'Commitment_Date', 'Primary_Loan_Digit', 'Code_Franchise', 'Name_Of_Bank', 'Revolving_Credit_Line', 'Default'],\n",
       "      dtype='object')"
      ]
     },
     "execution_count": 25,
     "metadata": {},
     "output_type": "execute_result"
    }
   ],
   "source": [
    "ldf.columns"
   ]
  },
  {
   "cell_type": "code",
   "execution_count": 26,
   "id": "591f008e",
   "metadata": {},
   "outputs": [
    {
     "data": {
      "image/png": "[encoded data removed]",
      "text/plain": [
       "<Figure size 360x360 with 1 Axes>"
      ]
     },
     "metadata": {},
     "output_type": "display_data"
    }
   ],
   "source": [
    "sns.catplot(x=\"Default\",y='Guaranteed_Approved _Loan',kind=\"bar\",data=ldf) #loans involving 3rd party are less likely to get default\n",
    "plt.show()"
   ]
  },
  {
   "cell_type": "code",
   "execution_count": 27,
   "id": "7f83d9d7",
   "metadata": {},
   "outputs": [
    {
     "data": {
      "image/png": "[encoded data removed]",
      "text/plain": [
       "<Figure size 360x360 with 1 Axes>"
      ]
     },
     "metadata": {},
     "output_type": "display_data"
    }
   ],
   "source": [
    "sns.catplot(x=\"Default\",y='ChargedOff_Amount ',kind=\"bar\",data=ldf) #loans involving 3rd party are less likely to get default\n",
    "plt.show()"
   ]
  },
  {
   "cell_type": "code",
   "execution_count": 28,
   "id": "9c58ded4",
   "metadata": {},
   "outputs": [],
   "source": [
    "#All accounts loan with charged off amount are defaulted"
   ]
  },
  {
   "cell_type": "code",
   "execution_count": 29,
   "id": "fffdd3bd",
   "metadata": {},
   "outputs": [
    {
     "data": {
      "image/png": "[encoded data removed]",
      "text/plain": [
       "<Figure size 360x360 with 1 Axes>"
      ]
     },
     "metadata": {},
     "output_type": "display_data"
    }
   ],
   "source": [
    "sns.catplot(x=\"Default\",y='Gross_Amount_Balance',kind=\"bar\",data=ldf) #loans involving 3rd party are less likely to get default\n",
    "plt.show()"
   ]
  },
  {
   "cell_type": "code",
   "execution_count": 30,
   "id": "1200f86d",
   "metadata": {},
   "outputs": [
    {
     "data": {
      "image/png": "[encoded data removed]",
      "text/plain": [
       "<Figure size 360x360 with 1 Axes>"
      ]
     },
     "metadata": {},
     "output_type": "display_data"
    }
   ],
   "source": [
    "sns.catplot(x=\"Default\",y='Gross_Amount_Disbursed  ',kind=\"bar\",data=ldf) #loans involving 3rd party are less likely to get default\n",
    "plt.show()"
   ]
  },
  {
   "cell_type": "code",
   "execution_count": 31,
   "id": "d5f2a9d0",
   "metadata": {},
   "outputs": [
    {
     "data": {
      "image/png": "[encoded data removed]",
      "text/plain": [
       "<Figure size 360x360 with 1 Axes>"
      ]
     },
     "metadata": {},
     "output_type": "display_data"
    }
   ],
   "source": [
    "sns.catplot(x=\"Default\",y='Loan_Approved_Gross',kind=\"bar\",data=ldf) #loans involving 3rd party are less likely to get default\n",
    "plt.show()"
   ]
  },
  {
   "cell_type": "code",
   "execution_count": 32,
   "id": "67fef188",
   "metadata": {},
   "outputs": [
    {
     "data": {
      "image/png": "[encoded data removed]",
      "text/plain": [
       "<Figure size 360x360 with 1 Axes>"
      ]
     },
     "metadata": {},
     "output_type": "display_data"
    }
   ],
   "source": [
    "sns.catplot(x=\"Default\",y=\"Business\",kind=\"bar\",data=ldf)\n",
    "plt.show()"
   ]
  },
  {
   "cell_type": "code",
   "execution_count": 33,
   "id": "b8986844",
   "metadata": {},
   "outputs": [],
   "source": [
    "#default rate is more for those who have new business"
   ]
  },
  {
   "cell_type": "code",
   "execution_count": 34,
   "id": "92434b81",
   "metadata": {},
   "outputs": [
    {
     "data": {
      "image/png": "[encoded data removed]",
      "text/plain": [
       "<Figure size 360x360 with 1 Axes>"
      ]
     },
     "metadata": {},
     "output_type": "display_data"
    }
   ],
   "source": [
    "sns.catplot(x=\"Default\",y='Revolving_Credit_Line',kind=\"bar\",data=ldf)\n",
    "plt.show()"
   ]
  },
  {
   "cell_type": "code",
   "execution_count": 35,
   "id": "2df829e0",
   "metadata": {},
   "outputs": [
    {
     "data": {
      "image/png": "[encoded data removed]",
      "text/plain": [
       "<Figure size 360x360 with 1 Axes>"
      ]
     },
     "metadata": {},
     "output_type": "display_data"
    }
   ],
   "source": [
    "sns.catplot(x=\"Default\",y='Demography',kind=\"bar\",data=ldf)\n",
    "plt.show()"
   ]
  },
  {
   "cell_type": "code",
   "execution_count": 36,
   "id": "8381274a",
   "metadata": {},
   "outputs": [],
   "source": [
    "#Urban people defaulting rate is high"
   ]
  },
  {
   "cell_type": "code",
   "execution_count": 37,
   "id": "df4d8221",
   "metadata": {},
   "outputs": [
    {
     "data": {
      "image/png": "[encoded data removed]",
      "text/plain": [
       "<Figure size 360x360 with 1 Axes>"
      ]
     },
     "metadata": {},
     "output_type": "display_data"
    }
   ],
   "source": [
    "sns.catplot(x=\"Default\",y='Low_Documentation_Loan',kind=\"bar\",data=ldf)\n",
    "plt.show()"
   ]
  },
  {
   "cell_type": "code",
   "execution_count": 38,
   "id": "42108a4d",
   "metadata": {},
   "outputs": [],
   "source": [
    "#S,A,R categories are more on default side"
   ]
  },
  {
   "cell_type": "code",
   "execution_count": 39,
   "id": "2457643b",
   "metadata": {},
   "outputs": [
    {
     "data": {
      "text/plain": [
       "Index(['ID', 'Date_Of_Disbursement', 'Business', 'Jobs_Reatained', 'Jobs_Created ', 'Year_Of_Commitment ', 'Guaranteed_Approved _Loan', 'Borrower_Name ', 'Low_Documentation_Loan', 'Demography', 'State_Of_Bank', 'ChargedOff_Amount ', 'Borrower_City', 'Borrower_State', 'Gross_Amount_Balance', 'Count_Employees', 'Classification_Code ', 'Loan_Approved_Gross', 'Gross_Amount_Disbursed  ', 'Loan_Term',\n",
       "       'Commitment_Date', 'Primary_Loan_Digit', 'Code_Franchise', 'Name_Of_Bank', 'Revolving_Credit_Line', 'Default'],\n",
       "      dtype='object')"
      ]
     },
     "execution_count": 39,
     "metadata": {},
     "output_type": "execute_result"
    }
   ],
   "source": [
    "ldf.columns"
   ]
  },
  {
   "cell_type": "code",
   "execution_count": 40,
   "id": "c352e4ec",
   "metadata": {},
   "outputs": [
    {
     "data": {
      "text/plain": [
       "<Figure size 2160x1440 with 0 Axes>"
      ]
     },
     "metadata": {},
     "output_type": "display_data"
    },
    {
     "data": {
      "image/png": "[encoded data removed]",
      "text/plain": [
       "<Figure size 360x360 with 1 Axes>"
      ]
     },
     "metadata": {},
     "output_type": "display_data"
    }
   ],
   "source": [
    "plt.figure(figsize=(30,20))\n",
    "sns.catplot(x=\"Default\",y='Loan_Term',kind=\"bar\",data=ldf)\n",
    "plt.show()"
   ]
  },
  {
   "cell_type": "code",
   "execution_count": 41,
   "id": "7a835307",
   "metadata": {},
   "outputs": [],
   "source": [
    "#More the loan term default rate is less, here loan of term above 75months are not defaulted"
   ]
  },
  {
   "cell_type": "code",
   "execution_count": 42,
   "id": "f7150377",
   "metadata": {},
   "outputs": [
    {
     "data": {
      "text/plain": [
       "<Figure size 2160x1440 with 0 Axes>"
      ]
     },
     "metadata": {},
     "output_type": "display_data"
    },
    {
     "data": {
      "image/png": "[encoded data removed]",
      "text/plain": [
       "<Figure size 360x360 with 1 Axes>"
      ]
     },
     "metadata": {},
     "output_type": "display_data"
    }
   ],
   "source": [
    "plt.figure(figsize=(30,20))\n",
    "sns.catplot(x=\"Default\",y='Count_Employees',kind=\"bar\",data=ldf)\n",
    "plt.show()"
   ]
  },
  {
   "cell_type": "code",
   "execution_count": 43,
   "id": "d06fdff0",
   "metadata": {},
   "outputs": [],
   "source": [
    "#Those businesses having employee count greater than 7 are not defaulting on loan"
   ]
  },
  {
   "cell_type": "code",
   "execution_count": 44,
   "id": "6907d72c",
   "metadata": {},
   "outputs": [
    {
     "data": {
      "text/plain": [
       "<Figure size 2160x1440 with 0 Axes>"
      ]
     },
     "metadata": {},
     "output_type": "display_data"
    },
    {
     "data": {
      "image/png": "[encoded data removed]",
      "text/plain": [
       "<Figure size 360x360 with 1 Axes>"
      ]
     },
     "metadata": {},
     "output_type": "display_data"
    }
   ],
   "source": [
    "plt.figure(figsize=(30,20))\n",
    "sns.catplot(x=\"Default\",y='Jobs_Reatained',kind=\"bar\",data=ldf)\n",
    "plt.show()"
   ]
  },
  {
   "cell_type": "code",
   "execution_count": 45,
   "id": "41e6f676",
   "metadata": {},
   "outputs": [],
   "source": [
    "#More than 11 jobs retained in business, then  person is more likely to default on loan"
   ]
  },
  {
   "cell_type": "code",
   "execution_count": 46,
   "id": "e412f541",
   "metadata": {},
   "outputs": [
    {
     "data": {
      "text/plain": [
       "<Figure size 2160x1440 with 0 Axes>"
      ]
     },
     "metadata": {},
     "output_type": "display_data"
    },
    {
     "data": {
      "image/png": "[encoded data removed]",
      "text/plain": [
       "<Figure size 360x360 with 1 Axes>"
      ]
     },
     "metadata": {},
     "output_type": "display_data"
    }
   ],
   "source": [
    "plt.figure(figsize=(30,20))\n",
    "sns.catplot(x=\"Default\",y='Jobs_Created ',kind=\"bar\",data=ldf)\n",
    "plt.show()"
   ]
  },
  {
   "cell_type": "code",
   "execution_count": 47,
   "id": "2543c4f7",
   "metadata": {},
   "outputs": [],
   "source": [
    "#More than 8 jobs are created in business, then  person is more likely to default on loan"
   ]
  },
  {
   "cell_type": "code",
   "execution_count": 48,
   "id": "afb0343c",
   "metadata": {},
   "outputs": [
    {
     "data": {
      "image/png": "[encoded data removed]",
      "text/plain": [
       "<Figure size 1368x648 with 2 Axes>"
      ]
     },
     "metadata": {},
     "output_type": "display_data"
    }
   ],
   "source": [
    "mask = np.triu(ldf.corr(), 1)\n",
    "plt.figure(figsize=(19, 9))\n",
    "sns.heatmap(ldf.corr(), annot=True, vmax=1, vmin=-1, square=True, cmap='BrBG', mask=mask);"
   ]
  },
  {
   "cell_type": "code",
   "execution_count": 49,
   "id": "9140f4b2",
   "metadata": {},
   "outputs": [],
   "source": [
    "#None of the variables highly correlated with Default\n",
    "#Charged_off_amount is bit correlated with target"
   ]
  },
  {
   "cell_type": "markdown",
   "id": "c2ab5634",
   "metadata": {},
   "source": [
    "# Data cleansing and Feature selection"
   ]
  },
  {
   "cell_type": "code",
   "execution_count": 50,
   "id": "e2bbcb22",
   "metadata": {},
   "outputs": [],
   "source": [
    "data_ca = ldf.select_dtypes(exclude=[\"int64\",\"float64\"]).copy()\n",
    "data_nu = ldf.select_dtypes(exclude=[\"object\",\"category\"]).copy()"
   ]
  },
  {
   "cell_type": "code",
   "execution_count": 51,
   "id": "ea5536e6",
   "metadata": {},
   "outputs": [
    {
     "name": "stderr",
     "output_type": "stream",
     "text": [
      "C:\\ProgramData\\Anaconda3\\lib\\site-packages\\seaborn\\_core.py:1319: UserWarning: Horizontal orientation ignored with only `y` specified.\n",
      "  warnings.warn(single_var_warning.format(\"Horizontal\", \"y\"))\n",
      "C:\\ProgramData\\Anaconda3\\lib\\site-packages\\seaborn\\_core.py:1319: UserWarning: Horizontal orientation ignored with only `y` specified.\n",
      "  warnings.warn(single_var_warning.format(\"Horizontal\", \"y\"))\n",
      "C:\\ProgramData\\Anaconda3\\lib\\site-packages\\seaborn\\_core.py:1319: UserWarning: Horizontal orientation ignored with only `y` specified.\n",
      "  warnings.warn(single_var_warning.format(\"Horizontal\", \"y\"))\n",
      "C:\\ProgramData\\Anaconda3\\lib\\site-packages\\seaborn\\_core.py:1319: UserWarning: Horizontal orientation ignored with only `y` specified.\n",
      "  warnings.warn(single_var_warning.format(\"Horizontal\", \"y\"))\n",
      "C:\\ProgramData\\Anaconda3\\lib\\site-packages\\seaborn\\_core.py:1319: UserWarning: Horizontal orientation ignored with only `y` specified.\n",
      "  warnings.warn(single_var_warning.format(\"Horizontal\", \"y\"))\n",
      "C:\\ProgramData\\Anaconda3\\lib\\site-packages\\seaborn\\_core.py:1319: UserWarning: Horizontal orientation ignored with only `y` specified.\n",
      "  warnings.warn(single_var_warning.format(\"Horizontal\", \"y\"))\n",
      "C:\\ProgramData\\Anaconda3\\lib\\site-packages\\seaborn\\_core.py:1319: UserWarning: Horizontal orientation ignored with only `y` specified.\n",
      "  warnings.warn(single_var_warning.format(\"Horizontal\", \"y\"))\n",
      "C:\\ProgramData\\Anaconda3\\lib\\site-packages\\seaborn\\_core.py:1319: UserWarning: Horizontal orientation ignored with only `y` specified.\n",
      "  warnings.warn(single_var_warning.format(\"Horizontal\", \"y\"))\n",
      "C:\\ProgramData\\Anaconda3\\lib\\site-packages\\seaborn\\_core.py:1319: UserWarning: Horizontal orientation ignored with only `y` specified.\n",
      "  warnings.warn(single_var_warning.format(\"Horizontal\", \"y\"))\n",
      "C:\\ProgramData\\Anaconda3\\lib\\site-packages\\seaborn\\_core.py:1319: UserWarning: Horizontal orientation ignored with only `y` specified.\n",
      "  warnings.warn(single_var_warning.format(\"Horizontal\", \"y\"))\n",
      "C:\\ProgramData\\Anaconda3\\lib\\site-packages\\seaborn\\_core.py:1319: UserWarning: Horizontal orientation ignored with only `y` specified.\n",
      "  warnings.warn(single_var_warning.format(\"Horizontal\", \"y\"))\n",
      "C:\\ProgramData\\Anaconda3\\lib\\site-packages\\seaborn\\_core.py:1319: UserWarning: Horizontal orientation ignored with only `y` specified.\n",
      "  warnings.warn(single_var_warning.format(\"Horizontal\", \"y\"))\n"
     ]
    },
    {
     "ename": "IndexError",
     "evalue": "index 12 is out of bounds for axis 0 with size 12",
     "output_type": "error",
     "traceback": [
      "\u001b[1;31m---------------------------------------------------------------------------\u001b[0m",
      "\u001b[1;31mIndexError\u001b[0m                                Traceback (most recent call last)",
      "\u001b[1;32m~\\AppData\\Local\\Temp/ipykernel_7436/1211911218.py\u001b[0m in \u001b[0;36m<module>\u001b[1;34m\u001b[0m\n\u001b[0;32m      3\u001b[0m \u001b[0maxs\u001b[0m \u001b[1;33m=\u001b[0m \u001b[0maxs\u001b[0m\u001b[1;33m.\u001b[0m\u001b[0mflatten\u001b[0m\u001b[1;33m(\u001b[0m\u001b[1;33m)\u001b[0m\u001b[1;33m\u001b[0m\u001b[1;33m\u001b[0m\u001b[0m\n\u001b[0;32m      4\u001b[0m \u001b[1;32mfor\u001b[0m \u001b[0mk\u001b[0m\u001b[1;33m,\u001b[0m\u001b[0mv\u001b[0m \u001b[1;32min\u001b[0m \u001b[0mdata_nu\u001b[0m\u001b[1;33m.\u001b[0m\u001b[0mitems\u001b[0m\u001b[1;33m(\u001b[0m\u001b[1;33m)\u001b[0m\u001b[1;33m:\u001b[0m\u001b[1;33m\u001b[0m\u001b[1;33m\u001b[0m\u001b[0m\n\u001b[1;32m----> 5\u001b[1;33m     \u001b[0msns\u001b[0m\u001b[1;33m.\u001b[0m\u001b[0mboxplot\u001b[0m\u001b[1;33m(\u001b[0m\u001b[0my\u001b[0m\u001b[1;33m=\u001b[0m\u001b[0mk\u001b[0m\u001b[1;33m,\u001b[0m \u001b[0mdata\u001b[0m\u001b[1;33m=\u001b[0m\u001b[0mdata_nu\u001b[0m\u001b[1;33m,\u001b[0m \u001b[0max\u001b[0m\u001b[1;33m=\u001b[0m\u001b[0maxs\u001b[0m\u001b[1;33m[\u001b[0m\u001b[0mindex\u001b[0m\u001b[1;33m]\u001b[0m\u001b[1;33m,\u001b[0m \u001b[0morient\u001b[0m\u001b[1;33m=\u001b[0m\u001b[1;34m\"h\"\u001b[0m\u001b[1;33m)\u001b[0m\u001b[1;33m\u001b[0m\u001b[1;33m\u001b[0m\u001b[0m\n\u001b[0m\u001b[0;32m      6\u001b[0m     \u001b[0mindex\u001b[0m \u001b[1;33m+=\u001b[0m \u001b[1;36m1\u001b[0m\u001b[1;33m\u001b[0m\u001b[1;33m\u001b[0m\u001b[0m\n\u001b[0;32m      7\u001b[0m     \u001b[0mplt\u001b[0m\u001b[1;33m.\u001b[0m\u001b[0mtight_layout\u001b[0m\u001b[1;33m(\u001b[0m\u001b[0mpad\u001b[0m\u001b[1;33m=\u001b[0m\u001b[1;36m0.4\u001b[0m\u001b[1;33m,\u001b[0m \u001b[0mw_pad\u001b[0m\u001b[1;33m=\u001b[0m\u001b[1;36m0.5\u001b[0m\u001b[1;33m,\u001b[0m \u001b[0mh_pad\u001b[0m\u001b[1;33m=\u001b[0m\u001b[1;36m5.0\u001b[0m\u001b[1;33m)\u001b[0m\u001b[1;33m\u001b[0m\u001b[1;33m\u001b[0m\u001b[0m\n",
      "\u001b[1;31mIndexError\u001b[0m: index 12 is out of bounds for axis 0 with size 12"
     ]
    },
    {
     "data": {
      "image/png": "[encoded data removed]",
      "text/plain": [
       "<Figure size 1152x576 with 12 Axes>"
      ]
     },
     "metadata": {},
     "output_type": "display_data"
    }
   ],
   "source": [
    "fig, axs = plt.subplots(ncols=3, nrows=4, figsize=(16, 8))\n",
    "index = 0\n",
    "axs = axs.flatten()\n",
    "for k,v in data_nu.items():\n",
    "    sns.boxplot(y=k, data=data_nu, ax=axs[index], orient=\"h\")\n",
    "    index += 1\n",
    "    plt.tight_layout(pad=0.4, w_pad=0.5, h_pad=5.0)"
   ]
  },
  {
   "cell_type": "code",
   "execution_count": 52,
   "id": "cdd08478",
   "metadata": {},
   "outputs": [],
   "source": [
    "#there are outliers in some of the variables"
   ]
  },
  {
   "cell_type": "code",
   "execution_count": 53,
   "id": "105bd113",
   "metadata": {},
   "outputs": [
    {
     "name": "stdout",
     "output_type": "stream",
     "text": [
      "(105000, 14)\n"
     ]
    },
    {
     "data": {
      "text/plain": [
       "(49360, 14)"
      ]
     },
     "execution_count": 53,
     "metadata": {},
     "output_type": "execute_result"
    }
   ],
   "source": [
    "#Outlier treatment\n",
    "#for numerical set data_nu\n",
    "# Outlier removal\n",
    "print(data_nu.shape)\n",
    "Q1 = data_nu.quantile(0.25)\n",
    "Q3 = data_nu.quantile(0.75)\n",
    "IQR = Q3 - Q1\n",
    "data_nu = data_nu[~((data_nu < (Q1 - 1.5 * IQR)) | (data_nu > (Q3 + 1.5 * IQR))).any(axis=1)]\n",
    "data_nu.shape"
   ]
  },
  {
   "cell_type": "code",
   "execution_count": 54,
   "id": "20a8049c",
   "metadata": {},
   "outputs": [
    {
     "name": "stdout",
     "output_type": "stream",
     "text": [
      "'Date_Of_Disbursement': number of missing values '235' ---> '0.224%'\n",
      "'Business': number of missing values '15' ---> '0.014%'\n",
      "'Borrower_Name ': number of missing values '3' ---> '0.003%'\n",
      "'Low_Documentation_Loan': number of missing values '367' ---> '0.350%'\n",
      "'Revolving_Credit_Line': number of missing values '491' ---> '0.468%'\n"
     ]
    }
   ],
   "source": [
    "#Missing value \n",
    "for column in ldf.columns:\n",
    "    if ldf[column].isna().sum() != 0:\n",
    "        missing = ldf[column].isna().sum()\n",
    "        portion = (missing / ldf.shape[0]) * 100\n",
    "        print(f\"'{column}': number of missing values '{missing}' ---> '{portion:.3f}%'\")"
   ]
  },
  {
   "cell_type": "code",
   "execution_count": 55,
   "id": "2aca49b3",
   "metadata": {},
   "outputs": [
    {
     "name": "stdout",
     "output_type": "stream",
     "text": [
      "Imputation done. Missing values: 0\n"
     ]
    }
   ],
   "source": [
    "ldf['Business'] = ldf.Business.fillna(ldf.Business.value_counts().index[0])\n",
    "print(f\"Imputation done. Missing values: {ldf.Business.isnull().sum()}\")\n"
   ]
  },
  {
   "cell_type": "code",
   "execution_count": 56,
   "id": "1453099a",
   "metadata": {},
   "outputs": [
    {
     "name": "stdout",
     "output_type": "stream",
     "text": [
      "Imputation done. Missing values: 0\n"
     ]
    }
   ],
   "source": [
    "ldf['Low_Documentation_Loan'] = ldf.Low_Documentation_Loan.fillna(ldf.Low_Documentation_Loan.value_counts().index[0])\n",
    "print(f\"Imputation done. Missing values: {ldf.Low_Documentation_Loan.isnull().sum()}\")\n"
   ]
  },
  {
   "cell_type": "code",
   "execution_count": 57,
   "id": "3f332b38",
   "metadata": {},
   "outputs": [
    {
     "name": "stdout",
     "output_type": "stream",
     "text": [
      "Imputation done. Missing values: 0\n"
     ]
    }
   ],
   "source": [
    "ldf['Revolving_Credit_Line'] = ldf.Revolving_Credit_Line.fillna(ldf.Revolving_Credit_Line.value_counts().index[0])\n",
    "print(f\"Imputation done. Missing values: {ldf.Revolving_Credit_Line.isnull().sum()}\")\n"
   ]
  },
  {
   "cell_type": "markdown",
   "id": "4a77cf74",
   "metadata": {},
   "source": [
    "#  FEATURE SELECTION"
   ]
  },
  {
   "cell_type": "code",
   "execution_count": 58,
   "id": "172ec84d",
   "metadata": {},
   "outputs": [
    {
     "name": "stdout",
     "output_type": "stream",
     "text": [
      "<class 'pandas.core.frame.DataFrame'>\n",
      "RangeIndex: 105000 entries, 0 to 104999\n",
      "Data columns (total 26 columns):\n",
      " #   Column                     Non-Null Count   Dtype  \n",
      "---  ------                     --------------   -----  \n",
      " 0   ID                         105000 non-null  int64  \n",
      " 1   Date_Of_Disbursement       104765 non-null  object \n",
      " 2   Business                   105000 non-null  object \n",
      " 3   Jobs_Reatained             105000 non-null  int64  \n",
      " 4   Jobs_Created               105000 non-null  int64  \n",
      " 5   Year_Of_Commitment         105000 non-null  object \n",
      " 6   Guaranteed_Approved _Loan  105000 non-null  float64\n",
      " 7   Borrower_Name              104997 non-null  object \n",
      " 8   Low_Documentation_Loan     105000 non-null  object \n",
      " 9   Demography                 105000 non-null  object \n",
      " 10  State_Of_Bank              105000 non-null  object \n",
      " 11  ChargedOff_Amount          105000 non-null  float64\n",
      " 12  Borrower_City              105000 non-null  object \n",
      " 13  Borrower_State             105000 non-null  object \n",
      " 14  Gross_Amount_Balance       105000 non-null  float64\n",
      " 15  Count_Employees            105000 non-null  int64  \n",
      " 16  Classification_Code        105000 non-null  int64  \n",
      " 17  Loan_Approved_Gross        105000 non-null  float64\n",
      " 18  Gross_Amount_Disbursed     105000 non-null  float64\n",
      " 19  Loan_Term                  105000 non-null  int64  \n",
      " 20  Commitment_Date            105000 non-null  object \n",
      " 21  Primary_Loan_Digit         105000 non-null  int64  \n",
      " 22  Code_Franchise             105000 non-null  int64  \n",
      " 23  Name_Of_Bank               105000 non-null  object \n",
      " 24  Revolving_Credit_Line      105000 non-null  object \n",
      " 25  Default                    105000 non-null  int64  \n",
      "dtypes: float64(5), int64(9), object(12)\n",
      "memory usage: 20.8+ MB\n"
     ]
    }
   ],
   "source": [
    "ldf.info()"
   ]
  },
  {
   "cell_type": "code",
   "execution_count": 59,
   "id": "a60e9a16",
   "metadata": {},
   "outputs": [],
   "source": [
    "#Lets drop IDs\n",
    "ldf.drop([\"ID\",'Primary_Loan_Digit','Code_Franchise','Classification_Code '],axis=1, inplace=True)"
   ]
  },
  {
   "cell_type": "code",
   "execution_count": 60,
   "id": "4fdab4ee",
   "metadata": {},
   "outputs": [],
   "source": [
    "#Lets drop dates and years\n",
    "ldf.drop(['Date_Of_Disbursement','Commitment_Date','Year_Of_Commitment '],axis=1, inplace=True)"
   ]
  },
  {
   "cell_type": "code",
   "execution_count": 61,
   "id": "725e803b",
   "metadata": {},
   "outputs": [],
   "source": [
    "#Lets drop some irrelevant features\n",
    "ldf.drop(['Borrower_Name ','Borrower_City', 'Borrower_State','Name_Of_Bank','State_Of_Bank'],axis=1, inplace=True)"
   ]
  },
  {
   "cell_type": "code",
   "execution_count": 62,
   "id": "49036dee",
   "metadata": {},
   "outputs": [],
   "source": [
    "ldf.drop([\"Revolving_Credit_Line\"],axis=1,inplace=True)"
   ]
  },
  {
   "cell_type": "code",
   "execution_count": 63,
   "id": "61245f02",
   "metadata": {},
   "outputs": [
    {
     "data": {
      "text/html": [
       "<div>\n",
       "<style scoped>\n",
       "    .dataframe tbody tr th:only-of-type {\n",
       "        vertical-align: middle;\n",
       "    }\n",
       "\n",
       "    .dataframe tbody tr th {\n",
       "        vertical-align: top;\n",
       "    }\n",
       "\n",
       "    .dataframe thead th {\n",
       "        text-align: right;\n",
       "    }\n",
       "</style>\n",
       "<table border=\"1\" class=\"dataframe\">\n",
       "  <thead>\n",
       "    <tr style=\"text-align: right;\">\n",
       "      <th></th>\n",
       "      <th>Business</th>\n",
       "      <th>Jobs_Reatained</th>\n",
       "      <th>Jobs_Created</th>\n",
       "      <th>Guaranteed_Approved _Loan</th>\n",
       "      <th>Low_Documentation_Loan</th>\n",
       "      <th>Demography</th>\n",
       "      <th>ChargedOff_Amount</th>\n",
       "      <th>Gross_Amount_Balance</th>\n",
       "      <th>Count_Employees</th>\n",
       "      <th>Loan_Approved_Gross</th>\n",
       "      <th>Gross_Amount_Disbursed</th>\n",
       "      <th>Loan_Term</th>\n",
       "      <th>Default</th>\n",
       "    </tr>\n",
       "  </thead>\n",
       "  <tbody>\n",
       "    <tr>\n",
       "      <th>0</th>\n",
       "      <td>Existing</td>\n",
       "      <td>0</td>\n",
       "      <td>0</td>\n",
       "      <td>33121600.00</td>\n",
       "      <td>No</td>\n",
       "      <td>Undefined</td>\n",
       "      <td>0.00</td>\n",
       "      <td>0.00</td>\n",
       "      <td>38</td>\n",
       "      <td>40640000.00</td>\n",
       "      <td>40640000.00</td>\n",
       "      <td>126</td>\n",
       "      <td>0</td>\n",
       "    </tr>\n",
       "    <tr>\n",
       "      <th>1</th>\n",
       "      <td>New</td>\n",
       "      <td>0</td>\n",
       "      <td>6</td>\n",
       "      <td>32735520.00</td>\n",
       "      <td>No</td>\n",
       "      <td>Urban</td>\n",
       "      <td>38283367.68</td>\n",
       "      <td>0.00</td>\n",
       "      <td>6</td>\n",
       "      <td>43647360.00</td>\n",
       "      <td>43647360.00</td>\n",
       "      <td>123</td>\n",
       "      <td>1</td>\n",
       "    </tr>\n",
       "    <tr>\n",
       "      <th>2</th>\n",
       "      <td>Existing</td>\n",
       "      <td>4</td>\n",
       "      <td>0</td>\n",
       "      <td>1422400.00</td>\n",
       "      <td>No</td>\n",
       "      <td>Urban</td>\n",
       "      <td>0.00</td>\n",
       "      <td>0.00</td>\n",
       "      <td>4</td>\n",
       "      <td>2844800.00</td>\n",
       "      <td>5961400.32</td>\n",
       "      <td>90</td>\n",
       "      <td>0</td>\n",
       "    </tr>\n",
       "    <tr>\n",
       "      <th>3</th>\n",
       "      <td>New</td>\n",
       "      <td>9</td>\n",
       "      <td>1</td>\n",
       "      <td>2032000.00</td>\n",
       "      <td>No</td>\n",
       "      <td>Urban</td>\n",
       "      <td>0.00</td>\n",
       "      <td>0.00</td>\n",
       "      <td>7</td>\n",
       "      <td>4064000.00</td>\n",
       "      <td>4064000.00</td>\n",
       "      <td>126</td>\n",
       "      <td>0</td>\n",
       "    </tr>\n",
       "    <tr>\n",
       "      <th>4</th>\n",
       "      <td>Existing</td>\n",
       "      <td>4</td>\n",
       "      <td>0</td>\n",
       "      <td>22981920.00</td>\n",
       "      <td>No</td>\n",
       "      <td>Urban</td>\n",
       "      <td>22862519.68</td>\n",
       "      <td>0.00</td>\n",
       "      <td>4</td>\n",
       "      <td>30642560.00</td>\n",
       "      <td>30642560.00</td>\n",
       "      <td>104</td>\n",
       "      <td>1</td>\n",
       "    </tr>\n",
       "  </tbody>\n",
       "</table>\n",
       "</div>"
      ],
      "text/plain": [
       "   Business  Jobs_Reatained  Jobs_Created   Guaranteed_Approved _Loan Low_Documentation_Loan Demography  ChargedOff_Amount   Gross_Amount_Balance  Count_Employees  Loan_Approved_Gross  Gross_Amount_Disbursed    Loan_Term  Default\n",
       "0  Existing               0              0                33121600.00                     No  Undefined                0.00                  0.00               38          40640000.00               40640000.00        126        0\n",
       "1       New               0              6                32735520.00                     No      Urban         38283367.68                  0.00                6          43647360.00               43647360.00        123        1\n",
       "2  Existing               4              0                 1422400.00                     No      Urban                0.00                  0.00                4           2844800.00                5961400.32         90        0\n",
       "3       New               9              1                 2032000.00                     No      Urban                0.00                  0.00                7           4064000.00                4064000.00        126        0\n",
       "4  Existing               4              0                22981920.00                     No      Urban         22862519.68                  0.00                4          30642560.00               30642560.00        104        1"
      ]
     },
     "execution_count": 63,
     "metadata": {},
     "output_type": "execute_result"
    }
   ],
   "source": [
    "ldf.head()"
   ]
  },
  {
   "cell_type": "code",
   "execution_count": 64,
   "id": "00c6f992",
   "metadata": {},
   "outputs": [
    {
     "data": {
      "text/plain": [
       "Index(['Business', 'Jobs_Reatained', 'Jobs_Created ', 'Guaranteed_Approved _Loan', 'Low_Documentation_Loan', 'Demography', 'ChargedOff_Amount ', 'Gross_Amount_Balance', 'Count_Employees', 'Loan_Approved_Gross', 'Gross_Amount_Disbursed  ', 'Loan_Term', 'Default'], dtype='object')"
      ]
     },
     "execution_count": 64,
     "metadata": {},
     "output_type": "execute_result"
    }
   ],
   "source": [
    "ldf.columns"
   ]
  },
  {
   "cell_type": "code",
   "execution_count": 65,
   "id": "88d398ea",
   "metadata": {},
   "outputs": [
    {
     "data": {
      "text/plain": [
       "(105000, 13)"
      ]
     },
     "execution_count": 65,
     "metadata": {},
     "output_type": "execute_result"
    }
   ],
   "source": [
    "ldf.shape "
   ]
  },
  {
   "cell_type": "code",
   "execution_count": 66,
   "id": "0716df6d",
   "metadata": {},
   "outputs": [],
   "source": [
    "data_nu = ldf.select_dtypes(exclude=[\"object\",\"category\"]).copy()"
   ]
  },
  {
   "cell_type": "code",
   "execution_count": 67,
   "id": "0d35364f",
   "metadata": {},
   "outputs": [],
   "source": [
    "Xnum = data_nu.drop([\"Default\"], axis= \"columns\")\n",
    "ynum = data_nu.Default"
   ]
  },
  {
   "cell_type": "code",
   "execution_count": 68,
   "id": "1b8bf34d",
   "metadata": {},
   "outputs": [
    {
     "data": {
      "text/html": [
       "<div>\n",
       "<style scoped>\n",
       "    .dataframe tbody tr th:only-of-type {\n",
       "        vertical-align: middle;\n",
       "    }\n",
       "\n",
       "    .dataframe tbody tr th {\n",
       "        vertical-align: top;\n",
       "    }\n",
       "\n",
       "    .dataframe thead th {\n",
       "        text-align: right;\n",
       "    }\n",
       "</style>\n",
       "<table border=\"1\" class=\"dataframe\">\n",
       "  <thead>\n",
       "    <tr style=\"text-align: right;\">\n",
       "      <th></th>\n",
       "      <th>Pearson Corr.</th>\n",
       "      <th>p-value</th>\n",
       "    </tr>\n",
       "  </thead>\n",
       "  <tbody>\n",
       "    <tr>\n",
       "      <th>Jobs_Reatained</th>\n",
       "      <td>0.01</td>\n",
       "      <td>0.00</td>\n",
       "    </tr>\n",
       "    <tr>\n",
       "      <th>Jobs_Created</th>\n",
       "      <td>0.01</td>\n",
       "      <td>0.00</td>\n",
       "    </tr>\n",
       "    <tr>\n",
       "      <th>Guaranteed_Approved _Loan</th>\n",
       "      <td>-0.16</td>\n",
       "      <td>0.00</td>\n",
       "    </tr>\n",
       "    <tr>\n",
       "      <th>ChargedOff_Amount</th>\n",
       "      <td>0.42</td>\n",
       "      <td>0.00</td>\n",
       "    </tr>\n",
       "    <tr>\n",
       "      <th>Gross_Amount_Balance</th>\n",
       "      <td>-0.00</td>\n",
       "      <td>0.53</td>\n",
       "    </tr>\n",
       "    <tr>\n",
       "      <th>Count_Employees</th>\n",
       "      <td>-0.04</td>\n",
       "      <td>0.00</td>\n",
       "    </tr>\n",
       "    <tr>\n",
       "      <th>Loan_Approved_Gross</th>\n",
       "      <td>-0.14</td>\n",
       "      <td>0.00</td>\n",
       "    </tr>\n",
       "    <tr>\n",
       "      <th>Gross_Amount_Disbursed</th>\n",
       "      <td>-0.13</td>\n",
       "      <td>0.00</td>\n",
       "    </tr>\n",
       "    <tr>\n",
       "      <th>Loan_Term</th>\n",
       "      <td>-0.38</td>\n",
       "      <td>0.00</td>\n",
       "    </tr>\n",
       "  </tbody>\n",
       "</table>\n",
       "</div>"
      ],
      "text/plain": [
       "                           Pearson Corr.  p-value\n",
       "Jobs_Reatained                      0.01     0.00\n",
       "Jobs_Created                        0.01     0.00\n",
       "Guaranteed_Approved _Loan          -0.16     0.00\n",
       "ChargedOff_Amount                   0.42     0.00\n",
       "Gross_Amount_Balance               -0.00     0.53\n",
       "Count_Employees                    -0.04     0.00\n",
       "Loan_Approved_Gross                -0.14     0.00\n",
       "Gross_Amount_Disbursed             -0.13     0.00\n",
       "Loan_Term                          -0.38     0.00"
      ]
     },
     "execution_count": 68,
     "metadata": {},
     "output_type": "execute_result"
    }
   ],
   "source": [
    "# Identifying the predictive features using the Pearson Correlation p-value\n",
    "pd.DataFrame(\n",
    "    [scipy.stats.pearsonr(Xnum[col], \n",
    "    ynum) for col in Xnum.columns], \n",
    "    columns=[\"Pearson Corr.\", \"p-value\"], \n",
    "    index=Xnum.columns,\n",
    ").round(4)\n",
    "#Strategy: Drop (p-value > 0.05) → low information to the target, and keep all the others."
   ]
  },
  {
   "cell_type": "markdown",
   "id": "95097dc5",
   "metadata": {},
   "source": [
    "So, according to our strategy we need to drop Gross_amount_Balance, since it's p-val is>0.05"
   ]
  },
  {
   "cell_type": "code",
   "execution_count": 69,
   "id": "38dd50c8",
   "metadata": {},
   "outputs": [],
   "source": [
    "ldf.drop(['Gross_Amount_Balance'],axis=1, inplace=True)"
   ]
  },
  {
   "cell_type": "code",
   "execution_count": 70,
   "id": "3aac366a",
   "metadata": {},
   "outputs": [
    {
     "data": {
      "text/plain": [
       "(105000, 12)"
      ]
     },
     "execution_count": 70,
     "metadata": {},
     "output_type": "execute_result"
    }
   ],
   "source": [
    "ldf.shape"
   ]
  },
  {
   "cell_type": "code",
   "execution_count": 71,
   "id": "904db64c",
   "metadata": {},
   "outputs": [],
   "source": [
    "Xcat = ldf.select_dtypes(exclude=['int64','float64']).copy()"
   ]
  },
  {
   "cell_type": "code",
   "execution_count": 72,
   "id": "51bb9bd1",
   "metadata": {},
   "outputs": [],
   "source": [
    "Xcat['target'] = ldf.Default\n",
    "Xcat.dropna(how=\"any\", inplace=True)\n",
    "ycat = Xcat.target\n",
    "Xcat.drop(\"target\", axis=1, inplace=True)"
   ]
  },
  {
   "cell_type": "code",
   "execution_count": 73,
   "id": "1aeaf5e3",
   "metadata": {},
   "outputs": [
    {
     "name": "stdout",
     "output_type": "stream",
     "text": [
      "\n"
     ]
    },
    {
     "data": {
      "text/html": [
       "<div>\n",
       "<style scoped>\n",
       "    .dataframe tbody tr th:only-of-type {\n",
       "        vertical-align: middle;\n",
       "    }\n",
       "\n",
       "    .dataframe tbody tr th {\n",
       "        vertical-align: top;\n",
       "    }\n",
       "\n",
       "    .dataframe thead th {\n",
       "        text-align: right;\n",
       "    }\n",
       "</style>\n",
       "<table border=\"1\" class=\"dataframe\">\n",
       "  <thead>\n",
       "    <tr style=\"text-align: right;\">\n",
       "      <th>target</th>\n",
       "      <th>0</th>\n",
       "      <th>1</th>\n",
       "    </tr>\n",
       "    <tr>\n",
       "      <th>Business</th>\n",
       "      <th></th>\n",
       "      <th></th>\n",
       "    </tr>\n",
       "  </thead>\n",
       "  <tbody>\n",
       "    <tr>\n",
       "      <th>0</th>\n",
       "      <td>91</td>\n",
       "      <td>14</td>\n",
       "    </tr>\n",
       "    <tr>\n",
       "      <th>Existing</th>\n",
       "      <td>54734</td>\n",
       "      <td>20372</td>\n",
       "    </tr>\n",
       "    <tr>\n",
       "      <th>New</th>\n",
       "      <td>21071</td>\n",
       "      <td>8718</td>\n",
       "    </tr>\n",
       "  </tbody>\n",
       "</table>\n",
       "</div>"
      ],
      "text/plain": [
       "target        0      1\n",
       "Business              \n",
       "0            91     14\n",
       "Existing  54734  20372\n",
       "New       21071   8718"
      ]
     },
     "metadata": {},
     "output_type": "display_data"
    },
    {
     "name": "stdout",
     "output_type": "stream",
     "text": [
      "p-value: 0.0000000000001099342341876\n",
      "\n"
     ]
    },
    {
     "data": {
      "text/html": [
       "<div>\n",
       "<style scoped>\n",
       "    .dataframe tbody tr th:only-of-type {\n",
       "        vertical-align: middle;\n",
       "    }\n",
       "\n",
       "    .dataframe tbody tr th {\n",
       "        vertical-align: top;\n",
       "    }\n",
       "\n",
       "    .dataframe thead th {\n",
       "        text-align: right;\n",
       "    }\n",
       "</style>\n",
       "<table border=\"1\" class=\"dataframe\">\n",
       "  <thead>\n",
       "    <tr style=\"text-align: right;\">\n",
       "      <th>target</th>\n",
       "      <th>0</th>\n",
       "      <th>1</th>\n",
       "    </tr>\n",
       "    <tr>\n",
       "      <th>Low_Documentation_Loan</th>\n",
       "      <th></th>\n",
       "      <th></th>\n",
       "    </tr>\n",
       "  </thead>\n",
       "  <tbody>\n",
       "    <tr>\n",
       "      <th>0</th>\n",
       "      <td>164</td>\n",
       "      <td>9</td>\n",
       "    </tr>\n",
       "    <tr>\n",
       "      <th>A</th>\n",
       "      <td>28</td>\n",
       "      <td>32</td>\n",
       "    </tr>\n",
       "    <tr>\n",
       "      <th>C</th>\n",
       "      <td>72</td>\n",
       "      <td>17</td>\n",
       "    </tr>\n",
       "    <tr>\n",
       "      <th>No</th>\n",
       "      <td>65320</td>\n",
       "      <td>27182</td>\n",
       "    </tr>\n",
       "    <tr>\n",
       "      <th>R</th>\n",
       "      <td>2</td>\n",
       "      <td>4</td>\n",
       "    </tr>\n",
       "    <tr>\n",
       "      <th>S</th>\n",
       "      <td>38</td>\n",
       "      <td>57</td>\n",
       "    </tr>\n",
       "    <tr>\n",
       "      <th>Yes</th>\n",
       "      <td>10272</td>\n",
       "      <td>1803</td>\n",
       "    </tr>\n",
       "  </tbody>\n",
       "</table>\n",
       "</div>"
      ],
      "text/plain": [
       "target                      0      1\n",
       "Low_Documentation_Loan              \n",
       "0                         164      9\n",
       "A                          28     32\n",
       "C                          72     17\n",
       "No                      65320  27182\n",
       "R                           2      4\n",
       "S                          38     57\n",
       "Yes                     10272   1803"
      ]
     },
     "metadata": {},
     "output_type": "display_data"
    },
    {
     "name": "stdout",
     "output_type": "stream",
     "text": [
      "p-value: 0.0000000000000000000000000\n",
      "\n"
     ]
    },
    {
     "data": {
      "text/html": [
       "<div>\n",
       "<style scoped>\n",
       "    .dataframe tbody tr th:only-of-type {\n",
       "        vertical-align: middle;\n",
       "    }\n",
       "\n",
       "    .dataframe tbody tr th {\n",
       "        vertical-align: top;\n",
       "    }\n",
       "\n",
       "    .dataframe thead th {\n",
       "        text-align: right;\n",
       "    }\n",
       "</style>\n",
       "<table border=\"1\" class=\"dataframe\">\n",
       "  <thead>\n",
       "    <tr style=\"text-align: right;\">\n",
       "      <th>target</th>\n",
       "      <th>0</th>\n",
       "      <th>1</th>\n",
       "    </tr>\n",
       "    <tr>\n",
       "      <th>Demography</th>\n",
       "      <th></th>\n",
       "      <th></th>\n",
       "    </tr>\n",
       "  </thead>\n",
       "  <tbody>\n",
       "    <tr>\n",
       "      <th>Rural</th>\n",
       "      <td>8690</td>\n",
       "      <td>3613</td>\n",
       "    </tr>\n",
       "    <tr>\n",
       "      <th>Undefined</th>\n",
       "      <td>30831</td>\n",
       "      <td>4268</td>\n",
       "    </tr>\n",
       "    <tr>\n",
       "      <th>Urban</th>\n",
       "      <td>36375</td>\n",
       "      <td>21223</td>\n",
       "    </tr>\n",
       "  </tbody>\n",
       "</table>\n",
       "</div>"
      ],
      "text/plain": [
       "target          0      1\n",
       "Demography              \n",
       "Rural        8690   3613\n",
       "Undefined   30831   4268\n",
       "Urban       36375  21223"
      ]
     },
     "metadata": {},
     "output_type": "display_data"
    },
    {
     "name": "stdout",
     "output_type": "stream",
     "text": [
      "p-value: 0.0000000000000000000000000\n"
     ]
    }
   ],
   "source": [
    "#Chi square test for independance\n",
    "for col in Xcat.columns:\n",
    "    table = pd.crosstab(Xcat[col], ycat)\n",
    "    print()\n",
    "    display(table)\n",
    "    _, pval, _, expected_table = scipy.stats.chi2_contingency(table)\n",
    "    print(f\"p-value: {pval:.25f}\")\n",
    "#Strategy: Keep all features (p-value < 0.05). The categorical variables have predictive power."
   ]
  },
  {
   "cell_type": "markdown",
   "id": "4181c1f8",
   "metadata": {},
   "source": [
    "So, here all categorical variables have predictive power,since p_val of all is <0.05"
   ]
  },
  {
   "cell_type": "markdown",
   "id": "4b330407",
   "metadata": {},
   "source": [
    "# ENCODING & TRANSFORMATIONS"
   ]
  },
  {
   "cell_type": "code",
   "execution_count": 74,
   "id": "eb39a22f",
   "metadata": {},
   "outputs": [
    {
     "data": {
      "text/plain": [
       "Index(['Business', 'Jobs_Reatained', 'Jobs_Created ', 'Guaranteed_Approved _Loan', 'Low_Documentation_Loan', 'Demography', 'ChargedOff_Amount ', 'Count_Employees', 'Loan_Approved_Gross', 'Gross_Amount_Disbursed  ', 'Loan_Term', 'Default'], dtype='object')"
      ]
     },
     "execution_count": 74,
     "metadata": {},
     "output_type": "execute_result"
    }
   ],
   "source": [
    "ldf.columns"
   ]
  },
  {
   "cell_type": "code",
   "execution_count": 75,
   "id": "bf58a94a",
   "metadata": {},
   "outputs": [],
   "source": [
    "#Let’s continue by encoding and transforming the categorical variables into numeric ones."
   ]
  },
  {
   "cell_type": "raw",
   "id": "b47c5e84",
   "metadata": {},
   "source": [
    "We have four categorical variables here\n",
    "1.Business 2.Low_Documentation_Loan 3.Demography "
   ]
  },
  {
   "cell_type": "code",
   "execution_count": 76,
   "id": "c0261e02",
   "metadata": {},
   "outputs": [
    {
     "data": {
      "text/plain": [
       "Existing    75106\n",
       "New         29789\n",
       "0             105\n",
       "Name: Business, dtype: int64"
      ]
     },
     "execution_count": 76,
     "metadata": {},
     "output_type": "execute_result"
    }
   ],
   "source": [
    "ldf[\"Business\"].value_counts()"
   ]
  },
  {
   "cell_type": "code",
   "execution_count": 77,
   "id": "27455611",
   "metadata": {},
   "outputs": [
    {
     "data": {
      "text/plain": [
       "No     92502\n",
       "Yes    12075\n",
       "0        173\n",
       "S         95\n",
       "C         89\n",
       "A         60\n",
       "R          6\n",
       "Name: Low_Documentation_Loan, dtype: int64"
      ]
     },
     "execution_count": 77,
     "metadata": {},
     "output_type": "execute_result"
    }
   ],
   "source": [
    "ldf['Low_Documentation_Loan'].value_counts()"
   ]
  },
  {
   "cell_type": "code",
   "execution_count": 78,
   "id": "0f235cfb",
   "metadata": {},
   "outputs": [
    {
     "data": {
      "text/plain": [
       "Urban        57598\n",
       "Undefined    35099\n",
       "Rural        12303\n",
       "Name: Demography, dtype: int64"
      ]
     },
     "execution_count": 78,
     "metadata": {},
     "output_type": "execute_result"
    }
   ],
   "source": [
    "ldf['Demography'].value_counts()"
   ]
  },
  {
   "cell_type": "code",
   "execution_count": 79,
   "id": "c037a3d1",
   "metadata": {},
   "outputs": [
    {
     "data": {
      "text/html": [
       "<div>\n",
       "<style scoped>\n",
       "    .dataframe tbody tr th:only-of-type {\n",
       "        vertical-align: middle;\n",
       "    }\n",
       "\n",
       "    .dataframe tbody tr th {\n",
       "        vertical-align: top;\n",
       "    }\n",
       "\n",
       "    .dataframe thead th {\n",
       "        text-align: right;\n",
       "    }\n",
       "</style>\n",
       "<table border=\"1\" class=\"dataframe\">\n",
       "  <thead>\n",
       "    <tr style=\"text-align: right;\">\n",
       "      <th></th>\n",
       "      <th>Jobs_Reatained</th>\n",
       "      <th>Jobs_Created</th>\n",
       "      <th>Guaranteed_Approved _Loan</th>\n",
       "      <th>ChargedOff_Amount</th>\n",
       "      <th>Count_Employees</th>\n",
       "      <th>Loan_Approved_Gross</th>\n",
       "      <th>Gross_Amount_Disbursed</th>\n",
       "      <th>Loan_Term</th>\n",
       "      <th>Default</th>\n",
       "      <th>Business_0</th>\n",
       "      <th>Business_Existing</th>\n",
       "      <th>Business_New</th>\n",
       "      <th>Low_Documentation_Loan_0</th>\n",
       "      <th>Low_Documentation_Loan_A</th>\n",
       "      <th>Low_Documentation_Loan_C</th>\n",
       "      <th>Low_Documentation_Loan_No</th>\n",
       "      <th>Low_Documentation_Loan_R</th>\n",
       "      <th>Low_Documentation_Loan_S</th>\n",
       "      <th>Low_Documentation_Loan_Yes</th>\n",
       "      <th>Demography_Rural</th>\n",
       "      <th>Demography_Undefined</th>\n",
       "      <th>Demography_Urban</th>\n",
       "    </tr>\n",
       "  </thead>\n",
       "  <tbody>\n",
       "    <tr>\n",
       "      <th>0</th>\n",
       "      <td>0</td>\n",
       "      <td>0</td>\n",
       "      <td>33121600.00</td>\n",
       "      <td>0.00</td>\n",
       "      <td>38</td>\n",
       "      <td>40640000.00</td>\n",
       "      <td>40640000.00</td>\n",
       "      <td>126</td>\n",
       "      <td>0</td>\n",
       "      <td>0</td>\n",
       "      <td>1</td>\n",
       "      <td>0</td>\n",
       "      <td>0</td>\n",
       "      <td>0</td>\n",
       "      <td>0</td>\n",
       "      <td>1</td>\n",
       "      <td>0</td>\n",
       "      <td>0</td>\n",
       "      <td>0</td>\n",
       "      <td>0</td>\n",
       "      <td>1</td>\n",
       "      <td>0</td>\n",
       "    </tr>\n",
       "    <tr>\n",
       "      <th>1</th>\n",
       "      <td>0</td>\n",
       "      <td>6</td>\n",
       "      <td>32735520.00</td>\n",
       "      <td>38283367.68</td>\n",
       "      <td>6</td>\n",
       "      <td>43647360.00</td>\n",
       "      <td>43647360.00</td>\n",
       "      <td>123</td>\n",
       "      <td>1</td>\n",
       "      <td>0</td>\n",
       "      <td>0</td>\n",
       "      <td>1</td>\n",
       "      <td>0</td>\n",
       "      <td>0</td>\n",
       "      <td>0</td>\n",
       "      <td>1</td>\n",
       "      <td>0</td>\n",
       "      <td>0</td>\n",
       "      <td>0</td>\n",
       "      <td>0</td>\n",
       "      <td>0</td>\n",
       "      <td>1</td>\n",
       "    </tr>\n",
       "    <tr>\n",
       "      <th>2</th>\n",
       "      <td>4</td>\n",
       "      <td>0</td>\n",
       "      <td>1422400.00</td>\n",
       "      <td>0.00</td>\n",
       "      <td>4</td>\n",
       "      <td>2844800.00</td>\n",
       "      <td>5961400.32</td>\n",
       "      <td>90</td>\n",
       "      <td>0</td>\n",
       "      <td>0</td>\n",
       "      <td>1</td>\n",
       "      <td>0</td>\n",
       "      <td>0</td>\n",
       "      <td>0</td>\n",
       "      <td>0</td>\n",
       "      <td>1</td>\n",
       "      <td>0</td>\n",
       "      <td>0</td>\n",
       "      <td>0</td>\n",
       "      <td>0</td>\n",
       "      <td>0</td>\n",
       "      <td>1</td>\n",
       "    </tr>\n",
       "    <tr>\n",
       "      <th>3</th>\n",
       "      <td>9</td>\n",
       "      <td>1</td>\n",
       "      <td>2032000.00</td>\n",
       "      <td>0.00</td>\n",
       "      <td>7</td>\n",
       "      <td>4064000.00</td>\n",
       "      <td>4064000.00</td>\n",
       "      <td>126</td>\n",
       "      <td>0</td>\n",
       "      <td>0</td>\n",
       "      <td>0</td>\n",
       "      <td>1</td>\n",
       "      <td>0</td>\n",
       "      <td>0</td>\n",
       "      <td>0</td>\n",
       "      <td>1</td>\n",
       "      <td>0</td>\n",
       "      <td>0</td>\n",
       "      <td>0</td>\n",
       "      <td>0</td>\n",
       "      <td>0</td>\n",
       "      <td>1</td>\n",
       "    </tr>\n",
       "    <tr>\n",
       "      <th>4</th>\n",
       "      <td>4</td>\n",
       "      <td>0</td>\n",
       "      <td>22981920.00</td>\n",
       "      <td>22862519.68</td>\n",
       "      <td>4</td>\n",
       "      <td>30642560.00</td>\n",
       "      <td>30642560.00</td>\n",
       "      <td>104</td>\n",
       "      <td>1</td>\n",
       "      <td>0</td>\n",
       "      <td>1</td>\n",
       "      <td>0</td>\n",
       "      <td>0</td>\n",
       "      <td>0</td>\n",
       "      <td>0</td>\n",
       "      <td>1</td>\n",
       "      <td>0</td>\n",
       "      <td>0</td>\n",
       "      <td>0</td>\n",
       "      <td>0</td>\n",
       "      <td>0</td>\n",
       "      <td>1</td>\n",
       "    </tr>\n",
       "    <tr>\n",
       "      <th>5</th>\n",
       "      <td>3</td>\n",
       "      <td>0</td>\n",
       "      <td>203200.00</td>\n",
       "      <td>0.00</td>\n",
       "      <td>3</td>\n",
       "      <td>406400.00</td>\n",
       "      <td>406400.00</td>\n",
       "      <td>126</td>\n",
       "      <td>0</td>\n",
       "      <td>0</td>\n",
       "      <td>1</td>\n",
       "      <td>0</td>\n",
       "      <td>0</td>\n",
       "      <td>0</td>\n",
       "      <td>0</td>\n",
       "      <td>1</td>\n",
       "      <td>0</td>\n",
       "      <td>0</td>\n",
       "      <td>0</td>\n",
       "      <td>0</td>\n",
       "      <td>0</td>\n",
       "      <td>1</td>\n",
       "    </tr>\n",
       "    <tr>\n",
       "      <th>6</th>\n",
       "      <td>3</td>\n",
       "      <td>3</td>\n",
       "      <td>1016000.00</td>\n",
       "      <td>2022896.64</td>\n",
       "      <td>2</td>\n",
       "      <td>2032000.00</td>\n",
       "      <td>7063232.00</td>\n",
       "      <td>96</td>\n",
       "      <td>1</td>\n",
       "      <td>0</td>\n",
       "      <td>0</td>\n",
       "      <td>1</td>\n",
       "      <td>0</td>\n",
       "      <td>0</td>\n",
       "      <td>0</td>\n",
       "      <td>1</td>\n",
       "      <td>0</td>\n",
       "      <td>0</td>\n",
       "      <td>0</td>\n",
       "      <td>0</td>\n",
       "      <td>0</td>\n",
       "      <td>1</td>\n",
       "    </tr>\n",
       "    <tr>\n",
       "      <th>7</th>\n",
       "      <td>0</td>\n",
       "      <td>0</td>\n",
       "      <td>3352800.00</td>\n",
       "      <td>0.00</td>\n",
       "      <td>10</td>\n",
       "      <td>4470400.00</td>\n",
       "      <td>4470400.00</td>\n",
       "      <td>270</td>\n",
       "      <td>0</td>\n",
       "      <td>0</td>\n",
       "      <td>1</td>\n",
       "      <td>0</td>\n",
       "      <td>0</td>\n",
       "      <td>0</td>\n",
       "      <td>0</td>\n",
       "      <td>1</td>\n",
       "      <td>0</td>\n",
       "      <td>0</td>\n",
       "      <td>0</td>\n",
       "      <td>0</td>\n",
       "      <td>1</td>\n",
       "      <td>0</td>\n",
       "    </tr>\n",
       "    <tr>\n",
       "      <th>8</th>\n",
       "      <td>1</td>\n",
       "      <td>3</td>\n",
       "      <td>4925568.00</td>\n",
       "      <td>0.00</td>\n",
       "      <td>1</td>\n",
       "      <td>9851136.00</td>\n",
       "      <td>9851136.00</td>\n",
       "      <td>126</td>\n",
       "      <td>0</td>\n",
       "      <td>0</td>\n",
       "      <td>0</td>\n",
       "      <td>1</td>\n",
       "      <td>0</td>\n",
       "      <td>0</td>\n",
       "      <td>0</td>\n",
       "      <td>1</td>\n",
       "      <td>0</td>\n",
       "      <td>0</td>\n",
       "      <td>0</td>\n",
       "      <td>0</td>\n",
       "      <td>0</td>\n",
       "      <td>1</td>\n",
       "    </tr>\n",
       "    <tr>\n",
       "      <th>9</th>\n",
       "      <td>20</td>\n",
       "      <td>2</td>\n",
       "      <td>406400.00</td>\n",
       "      <td>0.00</td>\n",
       "      <td>16</td>\n",
       "      <td>812800.00</td>\n",
       "      <td>812800.00</td>\n",
       "      <td>126</td>\n",
       "      <td>0</td>\n",
       "      <td>0</td>\n",
       "      <td>1</td>\n",
       "      <td>0</td>\n",
       "      <td>0</td>\n",
       "      <td>0</td>\n",
       "      <td>0</td>\n",
       "      <td>1</td>\n",
       "      <td>0</td>\n",
       "      <td>0</td>\n",
       "      <td>0</td>\n",
       "      <td>0</td>\n",
       "      <td>0</td>\n",
       "      <td>1</td>\n",
       "    </tr>\n",
       "  </tbody>\n",
       "</table>\n",
       "</div>"
      ],
      "text/plain": [
       "   Jobs_Reatained  Jobs_Created   Guaranteed_Approved _Loan  ChargedOff_Amount   Count_Employees  Loan_Approved_Gross  Gross_Amount_Disbursed    Loan_Term  Default  Business_0  Business_Existing  Business_New  Low_Documentation_Loan_0  Low_Documentation_Loan_A  Low_Documentation_Loan_C  Low_Documentation_Loan_No  Low_Documentation_Loan_R  Low_Documentation_Loan_S  Low_Documentation_Loan_Yes  \\\n",
       "0               0              0                33121600.00                0.00               38          40640000.00               40640000.00        126        0           0                  1             0                         0                         0                         0                          1                         0                         0                           0   \n",
       "1               0              6                32735520.00         38283367.68                6          43647360.00               43647360.00        123        1           0                  0             1                         0                         0                         0                          1                         0                         0                           0   \n",
       "2               4              0                 1422400.00                0.00                4           2844800.00                5961400.32         90        0           0                  1             0                         0                         0                         0                          1                         0                         0                           0   \n",
       "3               9              1                 2032000.00                0.00                7           4064000.00                4064000.00        126        0           0                  0             1                         0                         0                         0                          1                         0                         0                           0   \n",
       "4               4              0                22981920.00         22862519.68                4          30642560.00               30642560.00        104        1           0                  1             0                         0                         0                         0                          1                         0                         0                           0   \n",
       "5               3              0                  203200.00                0.00                3            406400.00                 406400.00        126        0           0                  1             0                         0                         0                         0                          1                         0                         0                           0   \n",
       "6               3              3                 1016000.00          2022896.64                2           2032000.00                7063232.00         96        1           0                  0             1                         0                         0                         0                          1                         0                         0                           0   \n",
       "7               0              0                 3352800.00                0.00               10           4470400.00                4470400.00        270        0           0                  1             0                         0                         0                         0                          1                         0                         0                           0   \n",
       "8               1              3                 4925568.00                0.00                1           9851136.00                9851136.00        126        0           0                  0             1                         0                         0                         0                          1                         0                         0                           0   \n",
       "9              20              2                  406400.00                0.00               16            812800.00                 812800.00        126        0           0                  1             0                         0                         0                         0                          1                         0                         0                           0   \n",
       "\n",
       "   Demography_Rural  Demography_Undefined  Demography_Urban  \n",
       "0                 0                     1                 0  \n",
       "1                 0                     0                 1  \n",
       "2                 0                     0                 1  \n",
       "3                 0                     0                 1  \n",
       "4                 0                     0                 1  \n",
       "5                 0                     0                 1  \n",
       "6                 0                     0                 1  \n",
       "7                 0                     1                 0  \n",
       "8                 0                     0                 1  \n",
       "9                 0                     0                 1  "
      ]
     },
     "execution_count": 79,
     "metadata": {},
     "output_type": "execute_result"
    }
   ],
   "source": [
    "#Lets go for one hot encoding\n",
    "ldf = pd.get_dummies(ldf,columns=[\"Business\",'Low_Documentation_Loan','Demography'])\n",
    "ldf.head(10)"
   ]
  },
  {
   "cell_type": "code",
   "execution_count": 80,
   "id": "5cdb19b2",
   "metadata": {},
   "outputs": [
    {
     "data": {
      "text/plain": [
       "(105000, 22)"
      ]
     },
     "execution_count": 80,
     "metadata": {},
     "output_type": "execute_result"
    }
   ],
   "source": [
    "ldf.shape"
   ]
  },
  {
   "cell_type": "code",
   "execution_count": 81,
   "id": "4ce8bd6a",
   "metadata": {},
   "outputs": [
    {
     "data": {
      "text/plain": [
       "Index(['Jobs_Reatained', 'Jobs_Created ', 'Guaranteed_Approved _Loan', 'ChargedOff_Amount ', 'Count_Employees', 'Loan_Approved_Gross', 'Gross_Amount_Disbursed  ', 'Loan_Term', 'Default', 'Business_0', 'Business_Existing', 'Business_New', 'Low_Documentation_Loan_0', 'Low_Documentation_Loan_A', 'Low_Documentation_Loan_C', 'Low_Documentation_Loan_No', 'Low_Documentation_Loan_R',\n",
       "       'Low_Documentation_Loan_S', 'Low_Documentation_Loan_Yes', 'Demography_Rural', 'Demography_Undefined', 'Demography_Urban'],\n",
       "      dtype='object')"
      ]
     },
     "execution_count": 81,
     "metadata": {},
     "output_type": "execute_result"
    }
   ],
   "source": [
    "ldf.columns"
   ]
  },
  {
   "cell_type": "markdown",
   "id": "0d2552e1",
   "metadata": {},
   "source": [
    "# Test set"
   ]
  },
  {
   "cell_type": "code",
   "execution_count": 82,
   "id": "4a1eeb98",
   "metadata": {
    "scrolled": true
   },
   "outputs": [
    {
     "data": {
      "text/html": [
       "<div>\n",
       "<style scoped>\n",
       "    .dataframe tbody tr th:only-of-type {\n",
       "        vertical-align: middle;\n",
       "    }\n",
       "\n",
       "    .dataframe tbody tr th {\n",
       "        vertical-align: top;\n",
       "    }\n",
       "\n",
       "    .dataframe thead th {\n",
       "        text-align: right;\n",
       "    }\n",
       "</style>\n",
       "<table border=\"1\" class=\"dataframe\">\n",
       "  <thead>\n",
       "    <tr style=\"text-align: right;\">\n",
       "      <th></th>\n",
       "      <th>ID</th>\n",
       "      <th>Date_Of_Disbursement</th>\n",
       "      <th>Business</th>\n",
       "      <th>Jobs_Reatained</th>\n",
       "      <th>Jobs_Created</th>\n",
       "      <th>Year_Of_Commitment</th>\n",
       "      <th>Guaranteed_Approved _Loan</th>\n",
       "      <th>Borrower_Name</th>\n",
       "      <th>Low_Documentation_Loan</th>\n",
       "      <th>Demography</th>\n",
       "      <th>State_Of_Bank</th>\n",
       "      <th>ChargedOff_Amount</th>\n",
       "      <th>Borrower_City</th>\n",
       "      <th>Borrower_State</th>\n",
       "      <th>Gross_Amount_Balance</th>\n",
       "      <th>Count_Employees</th>\n",
       "      <th>Classification_Code</th>\n",
       "      <th>Loan_Approved_Gross</th>\n",
       "      <th>Gross_Amount_Disbursed</th>\n",
       "      <th>Loan_Term</th>\n",
       "      <th>Commitment_Date</th>\n",
       "      <th>Primary_Loan_Digit</th>\n",
       "      <th>Code_Franchise</th>\n",
       "      <th>Name_Of_Bank</th>\n",
       "      <th>Revolving_Credit_Line</th>\n",
       "    </tr>\n",
       "  </thead>\n",
       "  <tbody>\n",
       "    <tr>\n",
       "      <th>0</th>\n",
       "      <td>105000</td>\n",
       "      <td>31-Mar-06</td>\n",
       "      <td>Existing</td>\n",
       "      <td>19</td>\n",
       "      <td>0</td>\n",
       "      <td>2006</td>\n",
       "      <td>Rs.4064000.0</td>\n",
       "      <td>Diversified Display Products o</td>\n",
       "      <td>No</td>\n",
       "      <td>Urban</td>\n",
       "      <td>GJ</td>\n",
       "      <td>Rs.8050784.0</td>\n",
       "      <td>Safidon</td>\n",
       "      <td>Haryana</td>\n",
       "      <td>Rs.0.0</td>\n",
       "      <td>17</td>\n",
       "      <td>326199</td>\n",
       "      <td>Rs.8128000.0</td>\n",
       "      <td>Rs.9403852.16</td>\n",
       "      <td>57</td>\n",
       "      <td>9-Mar-06</td>\n",
       "      <td>1702825000</td>\n",
       "      <td>0</td>\n",
       "      <td>ICICI Bank Ltd.</td>\n",
       "      <td>Yes</td>\n",
       "    </tr>\n",
       "    <tr>\n",
       "      <th>1</th>\n",
       "      <td>105001</td>\n",
       "      <td>31-Jan-95</td>\n",
       "      <td>Existing</td>\n",
       "      <td>0</td>\n",
       "      <td>0</td>\n",
       "      <td>1995</td>\n",
       "      <td>Rs.1463040.0</td>\n",
       "      <td>FOOTE CONSULTING GROUP, INC.</td>\n",
       "      <td>Yes</td>\n",
       "      <td>Undefined</td>\n",
       "      <td>AS</td>\n",
       "      <td>Rs.0.0</td>\n",
       "      <td>Nanjikottai</td>\n",
       "      <td>Tamil Nadu</td>\n",
       "      <td>Rs.0.0</td>\n",
       "      <td>2</td>\n",
       "      <td>0</td>\n",
       "      <td>Rs.1625600.0</td>\n",
       "      <td>Rs.1625600.0</td>\n",
       "      <td>90</td>\n",
       "      <td>14-Dec-94</td>\n",
       "      <td>7908833003</td>\n",
       "      <td>1</td>\n",
       "      <td>South Indian Bank Ltd.</td>\n",
       "      <td>No</td>\n",
       "    </tr>\n",
       "    <tr>\n",
       "      <th>2</th>\n",
       "      <td>105002</td>\n",
       "      <td>30-Sep-06</td>\n",
       "      <td>Existing</td>\n",
       "      <td>7</td>\n",
       "      <td>5</td>\n",
       "      <td>2006</td>\n",
       "      <td>Rs.812800.0</td>\n",
       "      <td>INTEGRATED COMERCIAL ENTERPRIS</td>\n",
       "      <td>No</td>\n",
       "      <td>Urban</td>\n",
       "      <td>ML</td>\n",
       "      <td>Rs.1625600.0</td>\n",
       "      <td>Tonk</td>\n",
       "      <td>Rajasthan</td>\n",
       "      <td>Rs.0.0</td>\n",
       "      <td>2</td>\n",
       "      <td>541611</td>\n",
       "      <td>Rs.1625600.0</td>\n",
       "      <td>Rs.3450336.0</td>\n",
       "      <td>81</td>\n",
       "      <td>25-Aug-06</td>\n",
       "      <td>2361626001</td>\n",
       "      <td>1</td>\n",
       "      <td>IDBI Bank Limited</td>\n",
       "      <td>Yes</td>\n",
       "    </tr>\n",
       "    <tr>\n",
       "      <th>3</th>\n",
       "      <td>105003</td>\n",
       "      <td>31-Jul-00</td>\n",
       "      <td>New</td>\n",
       "      <td>2</td>\n",
       "      <td>0</td>\n",
       "      <td>2000</td>\n",
       "      <td>Rs.2032000.0</td>\n",
       "      <td>FIRST IN RESCUE EQUIPMENT</td>\n",
       "      <td>No</td>\n",
       "      <td>Urban</td>\n",
       "      <td>TR</td>\n",
       "      <td>Rs.0.0</td>\n",
       "      <td>Musabani</td>\n",
       "      <td>Jharkhand</td>\n",
       "      <td>Rs.0.0</td>\n",
       "      <td>2</td>\n",
       "      <td>0</td>\n",
       "      <td>Rs.4064000.0</td>\n",
       "      <td>Rs.6916196.48</td>\n",
       "      <td>18</td>\n",
       "      <td>28-Jun-00</td>\n",
       "      <td>3814664008</td>\n",
       "      <td>1</td>\n",
       "      <td>Aryavart Bank</td>\n",
       "      <td>Yes</td>\n",
       "    </tr>\n",
       "    <tr>\n",
       "      <th>4</th>\n",
       "      <td>105004</td>\n",
       "      <td>30-Jun-05</td>\n",
       "      <td>Existing</td>\n",
       "      <td>0</td>\n",
       "      <td>0</td>\n",
       "      <td>2005</td>\n",
       "      <td>Rs.23469600.0</td>\n",
       "      <td>GLASGOW AUTOMOTIVE, INC.</td>\n",
       "      <td>No</td>\n",
       "      <td>Rural</td>\n",
       "      <td>TR</td>\n",
       "      <td>Rs.0.0</td>\n",
       "      <td>Adityapur</td>\n",
       "      <td>Jharkhand</td>\n",
       "      <td>Rs.0.0</td>\n",
       "      <td>6</td>\n",
       "      <td>441310</td>\n",
       "      <td>Rs.31292800.0</td>\n",
       "      <td>Rs.31292800.0</td>\n",
       "      <td>219</td>\n",
       "      <td>2-May-05</td>\n",
       "      <td>8830244003</td>\n",
       "      <td>1</td>\n",
       "      <td>Paschim Banga Gramin Bank</td>\n",
       "      <td>No</td>\n",
       "    </tr>\n",
       "  </tbody>\n",
       "</table>\n",
       "</div>"
      ],
      "text/plain": [
       "       ID Date_Of_Disbursement  Business  Jobs_Reatained  Jobs_Created  Year_Of_Commitment  Guaranteed_Approved _Loan                  Borrower_Name  Low_Documentation_Loan Demography State_Of_Bank ChargedOff_Amount  Borrower_City Borrower_State Gross_Amount_Balance  Count_Employees  Classification_Code  Loan_Approved_Gross Gross_Amount_Disbursed    Loan_Term Commitment_Date  Primary_Loan_Digit  \\\n",
       "0  105000            31-Mar-06  Existing              19              0                2006              Rs.4064000.0  Diversified Display Products o                     No      Urban            GJ       Rs.8050784.0       Safidon        Haryana               Rs.0.0               17                326199        Rs.8128000.0            Rs.9403852.16         57        9-Mar-06          1702825000   \n",
       "1  105001            31-Jan-95  Existing               0              0                1995              Rs.1463040.0    FOOTE CONSULTING GROUP, INC.                    Yes  Undefined            AS             Rs.0.0   Nanjikottai     Tamil Nadu               Rs.0.0                2                     0        Rs.1625600.0             Rs.1625600.0         90       14-Dec-94          7908833003   \n",
       "2  105002            30-Sep-06  Existing               7              5                2006               Rs.812800.0  INTEGRATED COMERCIAL ENTERPRIS                     No      Urban            ML       Rs.1625600.0          Tonk      Rajasthan               Rs.0.0                2                541611        Rs.1625600.0             Rs.3450336.0         81       25-Aug-06          2361626001   \n",
       "3  105003            31-Jul-00       New               2              0                2000              Rs.2032000.0       FIRST IN RESCUE EQUIPMENT                     No      Urban            TR             Rs.0.0      Musabani      Jharkhand               Rs.0.0                2                     0        Rs.4064000.0            Rs.6916196.48         18       28-Jun-00          3814664008   \n",
       "4  105004            30-Jun-05  Existing               0              0                2005             Rs.23469600.0        GLASGOW AUTOMOTIVE, INC.                     No      Rural            TR             Rs.0.0     Adityapur      Jharkhand               Rs.0.0                6                441310       Rs.31292800.0            Rs.31292800.0        219        2-May-05          8830244003   \n",
       "\n",
       "   Code_Franchise               Name_Of_Bank Revolving_Credit_Line  \n",
       "0               0            ICICI Bank Ltd.                   Yes  \n",
       "1               1     South Indian Bank Ltd.                    No  \n",
       "2               1          IDBI Bank Limited                   Yes  \n",
       "3               1              Aryavart Bank                   Yes  \n",
       "4               1  Paschim Banga Gramin Bank                    No  "
      ]
     },
     "execution_count": 82,
     "metadata": {},
     "output_type": "execute_result"
    }
   ],
   "source": [
    "ldftst=pd.read_csv(\"testing_data.csv\")\n",
    "ldftst.head()"
   ]
  },
  {
   "cell_type": "code",
   "execution_count": 83,
   "id": "3a42072f",
   "metadata": {},
   "outputs": [],
   "source": [
    "ldftst_id=ldftst[\"ID\"]"
   ]
  },
  {
   "cell_type": "code",
   "execution_count": 84,
   "id": "91d6a68c",
   "metadata": {},
   "outputs": [
    {
     "data": {
      "text/plain": [
       "Index(['ID', 'Date_Of_Disbursement', 'Business', 'Jobs_Reatained', 'Jobs_Created ', 'Year_Of_Commitment ', 'Guaranteed_Approved _Loan', 'Borrower_Name ', 'Low_Documentation_Loan', 'Demography', 'State_Of_Bank', 'ChargedOff_Amount ', 'Borrower_City', 'Borrower_State', 'Gross_Amount_Balance', 'Count_Employees', 'Classification_Code ', 'Loan_Approved_Gross', 'Gross_Amount_Disbursed  ', 'Loan_Term',\n",
       "       'Commitment_Date', 'Primary_Loan_Digit', 'Code_Franchise', 'Name_Of_Bank', 'Revolving_Credit_Line'],\n",
       "      dtype='object')"
      ]
     },
     "execution_count": 84,
     "metadata": {},
     "output_type": "execute_result"
    }
   ],
   "source": [
    "ldftst.columns"
   ]
  },
  {
   "cell_type": "code",
   "execution_count": 85,
   "id": "8453a1a8",
   "metadata": {},
   "outputs": [
    {
     "data": {
      "text/plain": [
       "No     20491\n",
       "Yes    10684\n",
       "Name: Revolving_Credit_Line, dtype: int64"
      ]
     },
     "execution_count": 85,
     "metadata": {},
     "output_type": "execute_result"
    }
   ],
   "source": [
    "ldftst['Revolving_Credit_Line'].value_counts() "
   ]
  },
  {
   "cell_type": "code",
   "execution_count": 86,
   "id": "0c3e8a07",
   "metadata": {},
   "outputs": [],
   "source": [
    "ldftst[\"Guaranteed_Approved _Loan\"]=ldftst[\"Guaranteed_Approved _Loan\"].apply(lambda x:x.replace(\"Rs.\",\"\")).astype(\"float\")\n"
   ]
  },
  {
   "cell_type": "code",
   "execution_count": 87,
   "id": "879e08fe",
   "metadata": {},
   "outputs": [],
   "source": [
    "ldftst['ChargedOff_Amount ']=ldftst['ChargedOff_Amount '].apply(lambda x:x.replace(\"Rs.\",\"\")).astype(\"float\")"
   ]
  },
  {
   "cell_type": "code",
   "execution_count": 88,
   "id": "fa557e50",
   "metadata": {},
   "outputs": [],
   "source": [
    "ldftst['Gross_Amount_Balance']=ldftst['Gross_Amount_Balance'].apply(lambda x:x.replace(\"Rs.\",\"\")).astype(\"float\")"
   ]
  },
  {
   "cell_type": "code",
   "execution_count": 89,
   "id": "0476cf37",
   "metadata": {},
   "outputs": [],
   "source": [
    "ldftst[\"Loan_Approved_Gross\"]=ldftst['Loan_Approved_Gross'].apply(lambda x:x.replace(\"Rs.\",\"\")).astype(\"float\")"
   ]
  },
  {
   "cell_type": "code",
   "execution_count": 90,
   "id": "b199e265",
   "metadata": {},
   "outputs": [],
   "source": [
    "ldftst['Gross_Amount_Disbursed  ']=ldftst['Gross_Amount_Disbursed  '].apply(lambda x:x.replace(\"Rs.\",\"\")).astype(\"float\")"
   ]
  },
  {
   "cell_type": "code",
   "execution_count": 91,
   "id": "605ae9ba",
   "metadata": {},
   "outputs": [],
   "source": [
    "ldftst.drop([\"ID\",'Primary_Loan_Digit','Code_Franchise','Classification_Code '],axis=1, inplace=True)\n",
    "\n"
   ]
  },
  {
   "cell_type": "code",
   "execution_count": 92,
   "id": "4605a278",
   "metadata": {},
   "outputs": [],
   "source": [
    "ldftst.drop(['Date_Of_Disbursement','Commitment_Date','Year_Of_Commitment '],axis=1, inplace=True)"
   ]
  },
  {
   "cell_type": "code",
   "execution_count": 93,
   "id": "20f26ad6",
   "metadata": {},
   "outputs": [],
   "source": [
    "ldftst.drop(['Borrower_Name ','Borrower_City', 'Borrower_State','Name_Of_Bank','State_Of_Bank'],axis=1, inplace=True)"
   ]
  },
  {
   "cell_type": "code",
   "execution_count": 94,
   "id": "fca34ab2",
   "metadata": {},
   "outputs": [],
   "source": [
    "ldftst.drop(['Gross_Amount_Balance'],axis=1, inplace=True)"
   ]
  },
  {
   "cell_type": "code",
   "execution_count": 95,
   "id": "f5786893",
   "metadata": {},
   "outputs": [],
   "source": [
    "ldftst.drop(['Revolving_Credit_Line'],axis=1, inplace=True)"
   ]
  },
  {
   "cell_type": "code",
   "execution_count": 96,
   "id": "362862b7",
   "metadata": {},
   "outputs": [
    {
     "data": {
      "text/html": [
       "<div>\n",
       "<style scoped>\n",
       "    .dataframe tbody tr th:only-of-type {\n",
       "        vertical-align: middle;\n",
       "    }\n",
       "\n",
       "    .dataframe tbody tr th {\n",
       "        vertical-align: top;\n",
       "    }\n",
       "\n",
       "    .dataframe thead th {\n",
       "        text-align: right;\n",
       "    }\n",
       "</style>\n",
       "<table border=\"1\" class=\"dataframe\">\n",
       "  <thead>\n",
       "    <tr style=\"text-align: right;\">\n",
       "      <th></th>\n",
       "      <th>Jobs_Reatained</th>\n",
       "      <th>Jobs_Created</th>\n",
       "      <th>Guaranteed_Approved _Loan</th>\n",
       "      <th>ChargedOff_Amount</th>\n",
       "      <th>Count_Employees</th>\n",
       "      <th>Loan_Approved_Gross</th>\n",
       "      <th>Gross_Amount_Disbursed</th>\n",
       "      <th>Loan_Term</th>\n",
       "      <th>Business_0</th>\n",
       "      <th>Business_Existing</th>\n",
       "      <th>Business_New</th>\n",
       "      <th>Low_Documentation_Loan_0</th>\n",
       "      <th>Low_Documentation_Loan_A</th>\n",
       "      <th>Low_Documentation_Loan_C</th>\n",
       "      <th>Low_Documentation_Loan_No</th>\n",
       "      <th>Low_Documentation_Loan_R</th>\n",
       "      <th>Low_Documentation_Loan_S</th>\n",
       "      <th>Low_Documentation_Loan_Yes</th>\n",
       "      <th>Demography_Rural</th>\n",
       "      <th>Demography_Undefined</th>\n",
       "      <th>Demography_Urban</th>\n",
       "    </tr>\n",
       "  </thead>\n",
       "  <tbody>\n",
       "    <tr>\n",
       "      <th>0</th>\n",
       "      <td>19</td>\n",
       "      <td>0</td>\n",
       "      <td>4064000.00</td>\n",
       "      <td>8050784.00</td>\n",
       "      <td>17</td>\n",
       "      <td>8128000.00</td>\n",
       "      <td>9403852.16</td>\n",
       "      <td>57</td>\n",
       "      <td>0</td>\n",
       "      <td>1</td>\n",
       "      <td>0</td>\n",
       "      <td>0</td>\n",
       "      <td>0</td>\n",
       "      <td>0</td>\n",
       "      <td>1</td>\n",
       "      <td>0</td>\n",
       "      <td>0</td>\n",
       "      <td>0</td>\n",
       "      <td>0</td>\n",
       "      <td>0</td>\n",
       "      <td>1</td>\n",
       "    </tr>\n",
       "    <tr>\n",
       "      <th>1</th>\n",
       "      <td>0</td>\n",
       "      <td>0</td>\n",
       "      <td>1463040.00</td>\n",
       "      <td>0.00</td>\n",
       "      <td>2</td>\n",
       "      <td>1625600.00</td>\n",
       "      <td>1625600.00</td>\n",
       "      <td>90</td>\n",
       "      <td>0</td>\n",
       "      <td>1</td>\n",
       "      <td>0</td>\n",
       "      <td>0</td>\n",
       "      <td>0</td>\n",
       "      <td>0</td>\n",
       "      <td>0</td>\n",
       "      <td>0</td>\n",
       "      <td>0</td>\n",
       "      <td>1</td>\n",
       "      <td>0</td>\n",
       "      <td>1</td>\n",
       "      <td>0</td>\n",
       "    </tr>\n",
       "    <tr>\n",
       "      <th>2</th>\n",
       "      <td>7</td>\n",
       "      <td>5</td>\n",
       "      <td>812800.00</td>\n",
       "      <td>1625600.00</td>\n",
       "      <td>2</td>\n",
       "      <td>1625600.00</td>\n",
       "      <td>3450336.00</td>\n",
       "      <td>81</td>\n",
       "      <td>0</td>\n",
       "      <td>1</td>\n",
       "      <td>0</td>\n",
       "      <td>0</td>\n",
       "      <td>0</td>\n",
       "      <td>0</td>\n",
       "      <td>1</td>\n",
       "      <td>0</td>\n",
       "      <td>0</td>\n",
       "      <td>0</td>\n",
       "      <td>0</td>\n",
       "      <td>0</td>\n",
       "      <td>1</td>\n",
       "    </tr>\n",
       "    <tr>\n",
       "      <th>3</th>\n",
       "      <td>2</td>\n",
       "      <td>0</td>\n",
       "      <td>2032000.00</td>\n",
       "      <td>0.00</td>\n",
       "      <td>2</td>\n",
       "      <td>4064000.00</td>\n",
       "      <td>6916196.48</td>\n",
       "      <td>18</td>\n",
       "      <td>0</td>\n",
       "      <td>0</td>\n",
       "      <td>1</td>\n",
       "      <td>0</td>\n",
       "      <td>0</td>\n",
       "      <td>0</td>\n",
       "      <td>1</td>\n",
       "      <td>0</td>\n",
       "      <td>0</td>\n",
       "      <td>0</td>\n",
       "      <td>0</td>\n",
       "      <td>0</td>\n",
       "      <td>1</td>\n",
       "    </tr>\n",
       "    <tr>\n",
       "      <th>4</th>\n",
       "      <td>0</td>\n",
       "      <td>0</td>\n",
       "      <td>23469600.00</td>\n",
       "      <td>0.00</td>\n",
       "      <td>6</td>\n",
       "      <td>31292800.00</td>\n",
       "      <td>31292800.00</td>\n",
       "      <td>219</td>\n",
       "      <td>0</td>\n",
       "      <td>1</td>\n",
       "      <td>0</td>\n",
       "      <td>0</td>\n",
       "      <td>0</td>\n",
       "      <td>0</td>\n",
       "      <td>1</td>\n",
       "      <td>0</td>\n",
       "      <td>0</td>\n",
       "      <td>0</td>\n",
       "      <td>1</td>\n",
       "      <td>0</td>\n",
       "      <td>0</td>\n",
       "    </tr>\n",
       "    <tr>\n",
       "      <th>5</th>\n",
       "      <td>0</td>\n",
       "      <td>0</td>\n",
       "      <td>13817600.00</td>\n",
       "      <td>0.00</td>\n",
       "      <td>4</td>\n",
       "      <td>16256000.00</td>\n",
       "      <td>16256000.00</td>\n",
       "      <td>14</td>\n",
       "      <td>0</td>\n",
       "      <td>1</td>\n",
       "      <td>0</td>\n",
       "      <td>0</td>\n",
       "      <td>0</td>\n",
       "      <td>0</td>\n",
       "      <td>1</td>\n",
       "      <td>0</td>\n",
       "      <td>0</td>\n",
       "      <td>0</td>\n",
       "      <td>0</td>\n",
       "      <td>1</td>\n",
       "      <td>0</td>\n",
       "    </tr>\n",
       "    <tr>\n",
       "      <th>6</th>\n",
       "      <td>0</td>\n",
       "      <td>0</td>\n",
       "      <td>15240000.00</td>\n",
       "      <td>4356689.28</td>\n",
       "      <td>2</td>\n",
       "      <td>20320000.00</td>\n",
       "      <td>20320000.00</td>\n",
       "      <td>168</td>\n",
       "      <td>0</td>\n",
       "      <td>0</td>\n",
       "      <td>1</td>\n",
       "      <td>0</td>\n",
       "      <td>0</td>\n",
       "      <td>0</td>\n",
       "      <td>1</td>\n",
       "      <td>0</td>\n",
       "      <td>0</td>\n",
       "      <td>0</td>\n",
       "      <td>0</td>\n",
       "      <td>1</td>\n",
       "      <td>0</td>\n",
       "    </tr>\n",
       "    <tr>\n",
       "      <th>7</th>\n",
       "      <td>6</td>\n",
       "      <td>1</td>\n",
       "      <td>2032000.00</td>\n",
       "      <td>3893474.56</td>\n",
       "      <td>5</td>\n",
       "      <td>4064000.00</td>\n",
       "      <td>10395630.72</td>\n",
       "      <td>100</td>\n",
       "      <td>0</td>\n",
       "      <td>1</td>\n",
       "      <td>0</td>\n",
       "      <td>0</td>\n",
       "      <td>0</td>\n",
       "      <td>0</td>\n",
       "      <td>1</td>\n",
       "      <td>0</td>\n",
       "      <td>0</td>\n",
       "      <td>0</td>\n",
       "      <td>0</td>\n",
       "      <td>0</td>\n",
       "      <td>1</td>\n",
       "    </tr>\n",
       "    <tr>\n",
       "      <th>8</th>\n",
       "      <td>2</td>\n",
       "      <td>4</td>\n",
       "      <td>5527040.00</td>\n",
       "      <td>0.00</td>\n",
       "      <td>2</td>\n",
       "      <td>6502400.00</td>\n",
       "      <td>6502400.00</td>\n",
       "      <td>126</td>\n",
       "      <td>0</td>\n",
       "      <td>0</td>\n",
       "      <td>1</td>\n",
       "      <td>0</td>\n",
       "      <td>0</td>\n",
       "      <td>0</td>\n",
       "      <td>1</td>\n",
       "      <td>0</td>\n",
       "      <td>0</td>\n",
       "      <td>0</td>\n",
       "      <td>0</td>\n",
       "      <td>0</td>\n",
       "      <td>1</td>\n",
       "    </tr>\n",
       "    <tr>\n",
       "      <th>9</th>\n",
       "      <td>3</td>\n",
       "      <td>0</td>\n",
       "      <td>3048000.00</td>\n",
       "      <td>4172021.12</td>\n",
       "      <td>3</td>\n",
       "      <td>6096000.00</td>\n",
       "      <td>16421486.08</td>\n",
       "      <td>32</td>\n",
       "      <td>0</td>\n",
       "      <td>0</td>\n",
       "      <td>1</td>\n",
       "      <td>0</td>\n",
       "      <td>0</td>\n",
       "      <td>0</td>\n",
       "      <td>1</td>\n",
       "      <td>0</td>\n",
       "      <td>0</td>\n",
       "      <td>0</td>\n",
       "      <td>0</td>\n",
       "      <td>0</td>\n",
       "      <td>1</td>\n",
       "    </tr>\n",
       "  </tbody>\n",
       "</table>\n",
       "</div>"
      ],
      "text/plain": [
       "   Jobs_Reatained  Jobs_Created   Guaranteed_Approved _Loan  ChargedOff_Amount   Count_Employees  Loan_Approved_Gross  Gross_Amount_Disbursed    Loan_Term  Business_0  Business_Existing  Business_New  Low_Documentation_Loan_0  Low_Documentation_Loan_A  Low_Documentation_Loan_C  Low_Documentation_Loan_No  Low_Documentation_Loan_R  Low_Documentation_Loan_S  Low_Documentation_Loan_Yes  \\\n",
       "0              19              0                 4064000.00          8050784.00               17           8128000.00                9403852.16         57           0                  1             0                         0                         0                         0                          1                         0                         0                           0   \n",
       "1               0              0                 1463040.00                0.00                2           1625600.00                1625600.00         90           0                  1             0                         0                         0                         0                          0                         0                         0                           1   \n",
       "2               7              5                  812800.00          1625600.00                2           1625600.00                3450336.00         81           0                  1             0                         0                         0                         0                          1                         0                         0                           0   \n",
       "3               2              0                 2032000.00                0.00                2           4064000.00                6916196.48         18           0                  0             1                         0                         0                         0                          1                         0                         0                           0   \n",
       "4               0              0                23469600.00                0.00                6          31292800.00               31292800.00        219           0                  1             0                         0                         0                         0                          1                         0                         0                           0   \n",
       "5               0              0                13817600.00                0.00                4          16256000.00               16256000.00         14           0                  1             0                         0                         0                         0                          1                         0                         0                           0   \n",
       "6               0              0                15240000.00          4356689.28                2          20320000.00               20320000.00        168           0                  0             1                         0                         0                         0                          1                         0                         0                           0   \n",
       "7               6              1                 2032000.00          3893474.56                5           4064000.00               10395630.72        100           0                  1             0                         0                         0                         0                          1                         0                         0                           0   \n",
       "8               2              4                 5527040.00                0.00                2           6502400.00                6502400.00        126           0                  0             1                         0                         0                         0                          1                         0                         0                           0   \n",
       "9               3              0                 3048000.00          4172021.12                3           6096000.00               16421486.08         32           0                  0             1                         0                         0                         0                          1                         0                         0                           0   \n",
       "\n",
       "   Demography_Rural  Demography_Undefined  Demography_Urban  \n",
       "0                 0                     0                 1  \n",
       "1                 0                     1                 0  \n",
       "2                 0                     0                 1  \n",
       "3                 0                     0                 1  \n",
       "4                 1                     0                 0  \n",
       "5                 0                     1                 0  \n",
       "6                 0                     1                 0  \n",
       "7                 0                     0                 1  \n",
       "8                 0                     0                 1  \n",
       "9                 0                     0                 1  "
      ]
     },
     "execution_count": 96,
     "metadata": {},
     "output_type": "execute_result"
    }
   ],
   "source": [
    "ldftst= pd.get_dummies(ldftst,columns=[\"Business\",'Low_Documentation_Loan','Demography'])\n",
    "ldftst.head(10)"
   ]
  },
  {
   "cell_type": "code",
   "execution_count": 97,
   "id": "90d8d3c4",
   "metadata": {},
   "outputs": [
    {
     "data": {
      "text/plain": [
       "(45000, 21)"
      ]
     },
     "execution_count": 97,
     "metadata": {},
     "output_type": "execute_result"
    }
   ],
   "source": [
    "ldftst.shape"
   ]
  },
  {
   "cell_type": "markdown",
   "id": "c797b8aa",
   "metadata": {},
   "source": [
    "# Model Building"
   ]
  },
  {
   "cell_type": "code",
   "execution_count": 98,
   "id": "0a821d7b",
   "metadata": {},
   "outputs": [],
   "source": [
    "df_lr=ldf.copy()"
   ]
  },
  {
   "cell_type": "code",
   "execution_count": 99,
   "id": "8cb96ab0",
   "metadata": {},
   "outputs": [],
   "source": [
    "X = df_lr.drop(columns=\"Default\", axis= 1)\n",
    "y = df_lr[\"Default\"]"
   ]
  },
  {
   "cell_type": "code",
   "execution_count": 100,
   "id": "0341824e",
   "metadata": {},
   "outputs": [],
   "source": [
    "X_train, X_test, y_train, y_test = train_test_split(X, y, test_size=0.428571428571, random_state=47)"
   ]
  },
  {
   "cell_type": "code",
   "execution_count": 101,
   "id": "90bc3ada",
   "metadata": {},
   "outputs": [],
   "source": [
    "#Decision tree classifier\n",
    "def get_train_report(model):\n",
    "    train_pred=model.predict(X_train)\n",
    "    return(classification_report(y_train,train_pred))"
   ]
  },
  {
   "cell_type": "code",
   "execution_count": 102,
   "id": "16fc9adb",
   "metadata": {},
   "outputs": [],
   "source": [
    "def get_test_report(model):\n",
    "    test_pred=model.predict(X_test)\n",
    "    return(classification_report(y_test,test_pred))"
   ]
  },
  {
   "cell_type": "code",
   "execution_count": 103,
   "id": "1d091744",
   "metadata": {},
   "outputs": [],
   "source": [
    "decision_tree_classification=DecisionTreeClassifier(criterion=\"entropy\",random_state=10)\n",
    "decision_tree=decision_tree_classification.fit(X_train,y_train)"
   ]
  },
  {
   "cell_type": "code",
   "execution_count": 104,
   "id": "969815b9",
   "metadata": {},
   "outputs": [
    {
     "name": "stdout",
     "output_type": "stream",
     "text": [
      "              precision    recall  f1-score   support\n",
      "\n",
      "           0       1.00      1.00      1.00     43368\n",
      "           1       1.00      1.00      1.00     16632\n",
      "\n",
      "    accuracy                           1.00     60000\n",
      "   macro avg       1.00      1.00      1.00     60000\n",
      "weighted avg       1.00      1.00      1.00     60000\n",
      "\n"
     ]
    }
   ],
   "source": [
    "train_report=get_train_report(decision_tree)\n",
    "print(train_report)"
   ]
  },
  {
   "cell_type": "code",
   "execution_count": 105,
   "id": "b5202e5f",
   "metadata": {},
   "outputs": [
    {
     "name": "stdout",
     "output_type": "stream",
     "text": [
      "              precision    recall  f1-score   support\n",
      "\n",
      "           0       0.99      0.99      0.99     32528\n",
      "           1       0.98      0.98      0.98     12472\n",
      "\n",
      "    accuracy                           0.99     45000\n",
      "   macro avg       0.99      0.99      0.99     45000\n",
      "weighted avg       0.99      0.99      0.99     45000\n",
      "\n"
     ]
    }
   ],
   "source": [
    "test_report=get_test_report(decision_tree)\n",
    "print(test_report)"
   ]
  },
  {
   "cell_type": "code",
   "execution_count": 106,
   "id": "12508a91",
   "metadata": {},
   "outputs": [],
   "source": [
    "#ldftst"
   ]
  },
  {
   "cell_type": "code",
   "execution_count": 107,
   "id": "ed61f408",
   "metadata": {},
   "outputs": [
    {
     "name": "stdout",
     "output_type": "stream",
     "text": [
      "              precision    recall  f1-score   support\n",
      "\n",
      "           0       0.72      0.72      0.72     32528\n",
      "           1       0.27      0.27      0.27     12472\n",
      "\n",
      "    accuracy                           0.60     45000\n",
      "   macro avg       0.50      0.50      0.50     45000\n",
      "weighted avg       0.60      0.60      0.60     45000\n",
      "\n"
     ]
    }
   ],
   "source": [
    "test_pred=decision_tree.predict(ldftst)\n",
    "print(classification_report(y_test,test_pred))"
   ]
  },
  {
   "cell_type": "code",
   "execution_count": 109,
   "id": "51cfdbbc",
   "metadata": {},
   "outputs": [
    {
     "data": {
      "text/html": [
       "<div>\n",
       "<style scoped>\n",
       "    .dataframe tbody tr th:only-of-type {\n",
       "        vertical-align: middle;\n",
       "    }\n",
       "\n",
       "    .dataframe tbody tr th {\n",
       "        vertical-align: top;\n",
       "    }\n",
       "\n",
       "    .dataframe thead th {\n",
       "        text-align: right;\n",
       "    }\n",
       "</style>\n",
       "<table border=\"1\" class=\"dataframe\">\n",
       "  <thead>\n",
       "    <tr style=\"text-align: right;\">\n",
       "      <th></th>\n",
       "      <th>Default</th>\n",
       "    </tr>\n",
       "    <tr>\n",
       "      <th>ID</th>\n",
       "      <th></th>\n",
       "    </tr>\n",
       "  </thead>\n",
       "  <tbody>\n",
       "    <tr>\n",
       "      <th>105000</th>\n",
       "      <td>1</td>\n",
       "    </tr>\n",
       "    <tr>\n",
       "      <th>105001</th>\n",
       "      <td>0</td>\n",
       "    </tr>\n",
       "    <tr>\n",
       "      <th>105002</th>\n",
       "      <td>1</td>\n",
       "    </tr>\n",
       "    <tr>\n",
       "      <th>105003</th>\n",
       "      <td>0</td>\n",
       "    </tr>\n",
       "    <tr>\n",
       "      <th>105004</th>\n",
       "      <td>0</td>\n",
       "    </tr>\n",
       "  </tbody>\n",
       "</table>\n",
       "</div>"
      ],
      "text/plain": [
       "        Default\n",
       "ID             \n",
       "105000        1\n",
       "105001        0\n",
       "105002        1\n",
       "105003        0\n",
       "105004        0"
      ]
     },
     "execution_count": 109,
     "metadata": {},
     "output_type": "execute_result"
    }
   ],
   "source": [
    "testpredicted = pd.DataFrame({\"ID\":ldftst_id, \"Default\":test_pred})\n",
    "testpredicted = testpredicted.set_index(\"ID\")\n",
    "testpredicted.head()"
   ]
  },
  {
   "cell_type": "code",
   "execution_count": 111,
   "id": "15756df1",
   "metadata": {},
   "outputs": [],
   "source": [
    "testpredicted.to_csv(\"submission1.csv\")"
   ]
  }
 ],
 "metadata": {
  "kernelspec": {
   "display_name": "Python 3 (ipykernel)",
   "language": "python",
   "name": "python3"
  },
  "language_info": {
   "codemirror_mode": {
    "name": "ipython",
    "version": 3
   },
   "file_extension": ".py",
   "mimetype": "text/x-python",
   "name": "python",
   "nbconvert_exporter": "python",
   "pygments_lexer": "ipython3",
   "version": "3.9.7"
  }
 },
 "nbformat": 4,
 "nbformat_minor": 5
}
